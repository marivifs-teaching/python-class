{
 "cells": [
  {
   "cell_type": "markdown",
   "metadata": {},
   "source": [
    "# Building Machine Learning Models\n",
    "\n",
    "In the [previous notebook](https://github.com/marivifs-teaching/python-class/blob/master/lectures/11-machine-learning/Introduction/machine-learning.ipynb), we used machine learning to classify, cluster, and analyze data. We talked about the algorithms we used to accomplish these tasks, but we did not write our own algorithms for conducting machine learning. In this notebook, we'll explore machine learning from a lower-level in order to understand the mechanics behind some of the simplest machine learning algorithms.\n",
    "\n",
    "Our goal in this notebook will be to use machine learning to create a model that can accurately predict the price of a home given that home's square footage. Pursuing this goal will allow us to get some exposure to the low-level mechanics behind numerical optimization, which drives much of contemporary machine learning. Let's dive in!"
   ]
  },
  {
   "cell_type": "markdown",
   "metadata": {},
   "source": [
    "## Predicting House Prices with Linear Regression\n",
    "\n",
    "Suppose we have some data that identifies the square footage and cost of a number for several houses. We'll generate and visualize this data just as we did before:"
   ]
  },
  {
   "cell_type": "code",
   "execution_count": 1,
   "metadata": {},
   "outputs": [
    {
     "data": {
      "text/plain": [
       "Text(0, 0.5, 'House Price (in thousands)')"
      ]
     },
     "execution_count": 1,
     "metadata": {},
     "output_type": "execute_result"
    },
    {
     "data": {
      "image/png": "[encoded data removed]",
      "text/plain": [
       "<Figure size 432x288 with 1 Axes>"
      ]
     },
     "metadata": {
      "needs_background": "light"
     },
     "output_type": "display_data"
    }
   ],
   "source": [
    "import matplotlib.pyplot as plt\n",
    "import numpy as np\n",
    "\n",
    "%matplotlib inline\n",
    "np.random.seed(13)\n",
    "\n",
    "# identify the number of houses to include in the dataset\n",
    "n_observations = 15\n",
    "\n",
    "# generate a price and square footage value for each house\n",
    "prices = np.linspace(200, 400, num=n_observations)\n",
    "footage = np.linspace(1000, 2000, num=n_observations)\n",
    "\n",
    "# introduce some \"noise\" into the data so footage and price are not perfectly linearly related\n",
    "prices = prices + np.random.randint(-30, 30, size=(n_observations,))\n",
    "footage = footage + np.random.randint(-30, 30, size=(n_observations,))\n",
    "\n",
    "# plot the housing data we just generated\n",
    "plt.scatter(footage, prices)\n",
    "plt.xlabel('House Square Footage')\n",
    "plt.ylabel('House Price (in thousands)')"
   ]
  },
  {
   "cell_type": "markdown",
   "metadata": {},
   "source": [
    "Now suppose someone asked you: *How much do you expect a house with 1,400 square feet to cost?*\n",
    "\n",
    "Looking at the data above, you can see that there's a rough \"linear\" relationship between house size and price&mdash;as house square footage goes up, house price goes up proportionally. Given that trend, you might imagine a line of best fit running from the lower-left to the upper-right regions of the chart (the red line below). After drawing that line, you might try to find the point where the 1,400 square foot value meets that line. We can identify that point as a red dot below:"
   ]
  },
  {
   "cell_type": "code",
   "execution_count": 2,
   "metadata": {},
   "outputs": [
    {
     "data": {
      "text/plain": [
       "[<matplotlib.lines.Line2D at 0x11f6dfda0>]"
      ]
     },
     "execution_count": 2,
     "metadata": {},
     "output_type": "execute_result"
    },
    {
     "data": {
      "image/png": "[encoded data removed]",
      "text/plain": [
       "<Figure size 432x288 with 1 Axes>"
      ]
     },
     "metadata": {
      "needs_background": "light"
     },
     "output_type": "display_data"
    }
   ],
   "source": [
    "plt.scatter(footage, prices)\n",
    "plt.xlabel('House Square Footage')\n",
    "plt.ylabel('House Price (in thousands)')\n",
    "plt.plot([1400], [280], marker='o', color='red') # plot the estimated house price as a point\n",
    "plt.plot([1400, 1400], [160, 280], c='red', linestyle=':') # draw the inference lines as a dotted line\n",
    "plt.plot([1000, 2000], [200, 400], c='red', linestyle='-') # draw the line of best fit as a solid line"
   ]
  },
  {
   "cell_type": "markdown",
   "metadata": {},
   "source": [
    "So we could estimate that a house with 1,400 square feet would cost roughly $280,000.\n",
    "\n",
    "This operation we have just performed&mdash;inferring the value of some variable at some position given some scatterplot-style data&mdash;is the general task of a [**linear regression model**](https://en.wikipedia.org/wiki/Linear_regression). \"Linear regression\" is just a fancy term for the process of fitting a curve (such as a straight line) to some data, where fitting a curve means finding some line of best fit that follows the general trajectory of the data nicely. In the example above, we fit the red line to our price and square footage data.\n",
    "\n",
    "Now suppose a classmate or colleague gave you a list with the square footage of 1000 different New Haven houses, and asked you to estimate the price of each. Rather than look up the prices on the line of best fit manually, you might try to find an *equation* for the line of best fit, as an equation would let you plug in each square footage value to get a good price estimate. As you may recall, a line (such as our line of best fit above) has the general equation:\n",
    "\n",
    "\\begin{align*}\n",
    "y &= m \\times x + b \\\\\n",
    "\\end{align*}\n",
    "\n",
    "Here $m$ denotes the slope of the line, and $b$ denotes the y-intercept of the line. We can interpret the $y$ and $x$ values for our equation by setting $y$ (the value we wish to predict) to the price of a house, and by setting $x$ (the data we're given) to the square footage of a house. This gives us:\n",
    "\n",
    "\\begin{align*}\n",
    "\\textit{house price} &= m \\times \\textit{square footage} + b \\\\\n",
    "\\end{align*}\n",
    "\n",
    "Now **all we need to do is find values for $m$ (the slope) and $b$ (the y intercept) that let us identify the line of best fit for our data** (i.e. the red line above). How should we do that?\n",
    "\n",
    "## Estimating Linear Regression Parameters by Hand\n",
    "\n",
    "As we've discussed, the $m$ term in the equation for a line refers to the line's slope. You might therefore try to determine $m$ by finding the \"rise over the run\", e.g. by choosing two points, then dividing the difference in their $y$ values by the difference in their $x$ values:\n",
    "\n",
    "$$m = \\frac{\\Delta y}{\\Delta x} \\approx \\frac{|y_i-y_j|}{|x_i-x_j|}$$\n",
    "\n",
    "By using the first and last observations in the dataset as $i$ and $j$, we could estimate $m$ with the following:"
   ]
  },
  {
   "cell_type": "code",
   "execution_count": 3,
   "metadata": {},
   "outputs": [],
   "source": [
    "m = abs(prices[0] - prices[-1]) / abs(footage[0] - footage[-1])"
   ]
  },
  {
   "cell_type": "markdown",
   "metadata": {},
   "source": [
    "After estimating $m$, you could try to solve the equation $y = mx + b$ for $b$ by plugging a random data point's $x$ value (house square footage) and $y$ value (house price) into the equation:"
   ]
  },
  {
   "cell_type": "code",
   "execution_count": 4,
   "metadata": {},
   "outputs": [],
   "source": [
    "# use the first data point to solve y = m*x+b for b\n",
    "x = footage[0]\n",
    "y = prices[0]\n",
    "\n",
    "# rearrange the equation by subtracting m*x from both sides\n",
    "b = y - (m * x)"
   ]
  },
  {
   "cell_type": "markdown",
   "metadata": {},
   "source": [
    "Now that you have estimates for both $m$ and $b$, you could plot the resulting line of best fit estimate:"
   ]
  },
  {
   "cell_type": "code",
   "execution_count": 5,
   "metadata": {},
   "outputs": [
    {
     "data": {
      "text/plain": [
       "[<matplotlib.lines.Line2D at 0x11f713240>]"
      ]
     },
     "execution_count": 5,
     "metadata": {},
     "output_type": "execute_result"
    },
    {
     "data": {
      "image/png": "[encoded data removed]",
      "text/plain": [
       "<Figure size 432x288 with 1 Axes>"
      ]
     },
     "metadata": {
      "needs_background": "light"
     },
     "output_type": "display_data"
    }
   ],
   "source": [
    "# Now we can plot the estimated function parameters:\n",
    "def estimate_y(x):\n",
    "  return m * x + b\n",
    "\n",
    "x_vals = [footage[0], footage[-1]]\n",
    "y_vals = [estimate_y(x_vals[0]), estimate_y(x_vals[1])]\n",
    "\n",
    "plt.scatter(footage, prices)\n",
    "plt.xlabel('House Square Footage')\n",
    "plt.ylabel('House Price (in thousands)')\n",
    "plt.plot(x_vals, y_vals, color='red')"
   ]
  },
  {
   "cell_type": "markdown",
   "metadata": {},
   "source": [
    "That's not too bad! But is this trend line the best fit for the data we can find?\n",
    "\n",
    "## Evaluating Linear Regression Parameters with a Loss Function\n",
    "\n",
    "In order to improve our line of best fit, we need a way to measure the degree to which that line accurately models the trend in the underlying data points. To measure the fit of a linear model, we can use a [<b>loss function</b>](https://en.wikipedia.org/wiki/Loss_function). A loss function computes the accuracy of a model by measuring the difference between the values the model predicts and the corresponding \"groundtruth\" (or known data) values.\n",
    "\n",
    "Many of the popular loss functions are variations on what is arguably the simplest loss function, the L1 Loss:\n",
    "\n",
    "$$L1\\ Loss = \\sum_{i=1}^n |\\ y_i-\\hat{y}_i\\ |$$\n",
    "\n",
    "We can better understand this equation by defining the following:\n",
    "\n",
    "\\begin{align*}\n",
    "\\sum_{i=1}^n &= \\textit{Sum over all values of i from 1 to n} \\\\\n",
    "y_i &= \\textit{the value the model should predict for the i-th data inputs} \\\\\n",
    "\\hat{y}_i &= \\textit{the value the model did predict for the i-th data inputs} \\\\\n",
    "|x| &= \\textit{the absolute value of x }\\\\\n",
    "\\end{align*}\n",
    "\n",
    "Putting this notation together, to compute the  L1 loss for a model, one must examine each input data point, find the difference between that data point's true $y$ value (in our case the actual house price) and the model's prediction $ŷ$ (in our case the predicted house price), take the absolute value of that difference, then sum those absolute differences.\n",
    "\n",
    "The better the model fits the data (that is, the smaller the sum of the distances between $y$ and $ŷ$), the smaller the loss will be. We can see this in the following illustration. If you update the \"offset\" parameter and click \"Run Model\" again, you should see that as the line gets closer to the points, the aggregate loss decreases:"
   ]
  },
  {
   "cell_type": "code",
   "execution_count": 6,
   "metadata": {},
   "outputs": [
    {
     "data": {
      "text/html": [
       "\n",
       "        <iframe\n",
       "            width=\"1000\"\n",
       "            height=\"460\"\n",
       "            src=\"https://s3.amazonaws.com/duhaime/blog/visualizations/l1-loss.html\"\n",
       "            frameborder=\"0\"\n",
       "            allowfullscreen\n",
       "        ></iframe>\n",
       "        "
      ],
      "text/plain": [
       "<IPython.lib.display.IFrame at 0x11f7f8908>"
      ]
     },
     "execution_count": 6,
     "metadata": {},
     "output_type": "execute_result"
    }
   ],
   "source": [
    "from IPython.display import IFrame\n",
    "IFrame(src='https://s3.amazonaws.com/duhaime/blog/visualizations/l1-loss.html', width=1000, height=460)"
   ]
  },
  {
   "cell_type": "markdown",
   "metadata": {},
   "source": [
    "Given the L1 loss function defined above, we can choose a range of values for both $m$ and $b$ and measure the loss associated with each pair of $m$ and $b$ values. Because the loss is a measure of how well the given linear model predicts house prices, the combination of $m$ and $b$ that produce the minimal loss value will be the best discovered model parameters. Let's generate a grid of $m$ and $b$ parameters and plot the loss associated with each:"
   ]
  },
  {
   "cell_type": "code",
   "execution_count": 7,
   "metadata": {},
   "outputs": [
    {
     "ename": "ModuleNotFoundError",
     "evalue": "No module named 'plotly'",
     "output_type": "error",
     "traceback": [
      "\u001b[0;31m------------------------------------------------------------------------\u001b[0m",
      "\u001b[0;31mModuleNotFoundError\u001b[0m                    Traceback (most recent call last)",
      "\u001b[0;32m<ipython-input-7-5d1293911f19>\u001b[0m in \u001b[0;36m<module>\u001b[0;34m\u001b[0m\n\u001b[0;32m----> 1\u001b[0;31m \u001b[0;32mimport\u001b[0m \u001b[0mplotly\u001b[0m\u001b[0;34m\u001b[0m\u001b[0;34m\u001b[0m\u001b[0m\n\u001b[0m\u001b[1;32m      2\u001b[0m \u001b[0;32mimport\u001b[0m \u001b[0mplotly\u001b[0m\u001b[0;34m.\u001b[0m\u001b[0mplotly\u001b[0m \u001b[0;32mas\u001b[0m \u001b[0mpy\u001b[0m\u001b[0;34m\u001b[0m\u001b[0;34m\u001b[0m\u001b[0m\n\u001b[1;32m      3\u001b[0m \u001b[0;32mimport\u001b[0m \u001b[0mplotly\u001b[0m\u001b[0;34m.\u001b[0m\u001b[0mgraph_objs\u001b[0m \u001b[0;32mas\u001b[0m \u001b[0mgo\u001b[0m\u001b[0;34m\u001b[0m\u001b[0;34m\u001b[0m\u001b[0m\n\u001b[1;32m      4\u001b[0m \u001b[0;34m\u001b[0m\u001b[0m\n\u001b[1;32m      5\u001b[0m \u001b[0;31m# generate losses for a parameter sweep over m, b params for visualizing the cost function for n observations\u001b[0m\u001b[0;34m\u001b[0m\u001b[0;34m\u001b[0m\u001b[0;34m\u001b[0m\u001b[0m\n",
      "\u001b[0;31mModuleNotFoundError\u001b[0m: No module named 'plotly'"
     ]
    }
   ],
   "source": [
    "import plotly\n",
    "import plotly.plotly as py\n",
    "import plotly.graph_objs as go\n",
    "\n",
    "# generate losses for a parameter sweep over m, b params for visualizing the cost function for n observations\n",
    "n = 100\n",
    "m_vals = [-1 + i*.02 for i in range(n) ]\n",
    "b_vals = [-50 + i for i in range(n)]\n",
    "\n",
    "data = [] # will store m, b, loss\n",
    "for m_val in m_vals:\n",
    "  for b_val in b_vals:\n",
    "    loss = np.sum( np.abs( (footage * m_val + b_val) - prices) ) # l1 loss\n",
    "    data.append([m_val, b_val, loss])\n",
    "\n",
    "# register for plotly account https://plot.ly/api_signup\n",
    "plotly.tools.set_credentials_file(username='douglasduhaime', api_key='a4qYSyVRsspl2o39SzTk')\n",
    "\n",
    "# plot the loss function\n",
    "data = np.array(data)\n",
    "layout = go.Layout(\n",
    "  title='Linear Regression L1 Loss Curve',\n",
    "  scene = dict(\n",
    "    xaxis=dict(title='Slope (m)'),\n",
    "    yaxis=dict(title='Intercept (b)'),\n",
    "    zaxis=dict(title='Loss')\n",
    "  )\n",
    ")\n",
    "surface = go.Surface(x=data[:,0].reshape(n, n), y=data[:,1].reshape(n, n), z=data[:,2].reshape(n, n))\n",
    "fig = go.Figure(data=[surface], layout=layout)\n",
    "py.iplot(fig, filename='surface-plot.png')"
   ]
  },
  {
   "cell_type": "markdown",
   "metadata": {},
   "source": [
    "The plot above represents the L1 loss curve for our simple linear regression model. Each position along the \"Slope\" axis represents a different $m$ value (or slope for the line in the linear model), and each position along the \"Intercept\" axis represents a different $b$ value (or y-intercept for the line in the linear model). The \"Loss\" axis value for a combination of \"Slope\" and \"Intercept\" axis values indicates the loss associated with that combination of slope and intercept. As we can see, the loss tends to be minimized when the slope term $m$ is near 0.2. \n",
    "\n",
    "Given this grid of parameters and associated loss values, <b>we can identify the optimal model parameters by finding the parameter set that produces the minimal loss&mdash;i.e. the position along the Slope and Intercept axes where the Loss value is at a global minimum</b>.\n",
    "\n",
    "In the case of the loss function plotted above, we might be able to just eyeball those values. With more complex functions, however, one can use a more sophisticated technique to find the minimum of the loss function curve. The most popular way to search for the minimum of the loss function is through **gradient descent**, to which we now turn.\n",
    "\n",
    "## Identifying Optimal Model Parameters with Gradient Descent\n",
    "\n",
    "In the cells above, we noted that a loss function measures the degree to which a model's predictions depart from the observed data. The smaller the loss, the better the model describes the data. We plotted the loss function for our simple linear model case, and recognized that the best model parameters are those for which the associated loss is minimal.\n",
    "\n",
    "A popular way to find parameters that minimize a loss function is through the use of **gradient descent**. Stated simply, gradient descent is an iterative algorithm that identifies the slope of a curve (or function) at a series of points, in order to figure out how to adjust model parameters to find some minimum along that curve.\n",
    "\n",
    "To understand the mechanics behind gradient descent, let's identify a simple function and plot its shape:\n",
    "\n",
    "$$y = x^2$$"
   ]
  },
  {
   "cell_type": "code",
   "execution_count": 8,
   "metadata": {},
   "outputs": [
    {
     "data": {
      "text/plain": [
       "Text(0, 0.5, 'y vals')"
      ]
     },
     "execution_count": 8,
     "metadata": {},
     "output_type": "execute_result"
    },
    {
     "data": {
      "image/png": "[encoded data removed]",
      "text/plain": [
       "<Figure size 432x288 with 1 Axes>"
      ]
     },
     "metadata": {
      "needs_background": "light"
     },
     "output_type": "display_data"
    }
   ],
   "source": [
    "from matplotlib import pyplot as plt\n",
    "%matplotlib inline\n",
    "\n",
    "x_vals = list(range(-20, 21, 1))\n",
    "y_vals = [x**2 for x in x_vals]\n",
    "\n",
    "plt.plot(x_vals, y_vals, c='gray')\n",
    "plt.title(r'$y = x^2$')\n",
    "plt.xlabel('x vals')\n",
    "plt.ylabel('y vals')"
   ]
  },
  {
   "cell_type": "markdown",
   "metadata": {},
   "source": [
    "Using gradient descent is a way of identifying the position along the $y = x^2$ curve where the function finds a minimum. To find this point, one initializes the gradient descent algorithm by choosing a random position on the curve. We can think of this random position as being determined by the random parameters with which a model is initialized.\n",
    "\n",
    "Given that random position along the curve, our goal will be to determine the slope of the curve with respect to each variable on the right hand of the equation. Those slope values tell us the degree to which the function changes when each of those variables changes. We can then use those slope values to move \"downhill\", e.g. towards a minimum in the curve.\n",
    "\n",
    "In order to identify the slope of the curve with respect to each variable on the right hand of the equation, we can use the [derivative rules](https://en.wikipedia.org/wiki/Differentiation_rules) to calculate the first derivative of our curve with respect to each variable:\n",
    "\n",
    "\\begin{align*}\n",
    "f(x) &= x^2 \\\\\n",
    "\\frac{\\delta f}{\\delta x} &= 2x\n",
    "\\end{align*}\n",
    "\n",
    "The first equation above is just our equation for which we wish to find the minimum. The second equation is often pronounced \"df, dx\", which indicates the derivative of $f$ with respect to $x$. Once we know the derivative of the function with respect to $x$, we can start the gradient descent process by choosing an arbitrary value of $x$ (say 5) and running the main gradient descent algorithm:\n",
    "\n",
    "#### Gradient Descent Algorithm\n",
    "\n",
    "First we pass the current value of $x$ through the derivative we just identified ($2x = 2 \\times 5 = 10$). We then multiply this product by a special value almost always referred to as <b>alpha</b>. This alpha value refers to the <b>learning rate</b> in the model, because smaller alpha values cause a model to learn more slowly but more surely while larger alpha values cause a model to learn more quickly and less reliably. Alpha values should generally be a quite small decimal value, often < 0.01. Let's use 0.01 as our alpha value. After multiplying the previous product by this alpha value ($10 \\times 0.01 = 0.1$), we subtract the resulting product from the current value of $x$. This new value of $x$ should be closer to the minimum of the $f(x) = x^2$ function.\n",
    "\n",
    "* * *\n",
    "\n",
    "What we've just described is a full iteration of gradient descent. To continue moving $x$ closer to the minimum of the $f(x) = x^2$ curve, we'll continue running iterations of the algorithm described above until either we hit a user-defined maximum number of iterations or the difference between the old and new $x$ values falls below some very small threshold, which can indicate the gradient descent algorithm has \"[converged](https://www.britannica.com/science/convergence-mathematics)\". The value of $x$ that results from this process denotes the the value identified by gradient descent as the minimum of the function.\n",
    "\n",
    "The following diagram [[source](https://bl.ocks.org/duhaime/afbb5535c07b1eed68febe31740359b5)] gives a visual demonstration of the way the current value of $x$ changes as we continue running gradient descent iterations. Each new value of $x$ will be represented by a new dot. As one can see, as long as the alpha is fairly small, each step gets closer to the minimum of the function:"
   ]
  },
  {
   "cell_type": "code",
   "execution_count": 9,
   "metadata": {},
   "outputs": [
    {
     "data": {
      "text/html": [
       "\n",
       "        <iframe\n",
       "            width=\"500\"\n",
       "            height=\"570\"\n",
       "            src=\"https://s3.amazonaws.com/duhaime/blog/visualizations/one-variable-gradient-descent.html\"\n",
       "            frameborder=\"0\"\n",
       "            allowfullscreen\n",
       "        ></iframe>\n",
       "        "
      ],
      "text/plain": [
       "<IPython.lib.display.IFrame at 0x1137ebd68>"
      ]
     },
     "execution_count": 9,
     "metadata": {},
     "output_type": "execute_result"
    }
   ],
   "source": [
    "from IPython.display import IFrame\n",
    "\n",
    "IFrame(src='https://s3.amazonaws.com/duhaime/blog/visualizations/one-variable-gradient-descent.html', width=500, height=570)"
   ]
  },
  {
   "cell_type": "markdown",
   "metadata": {},
   "source": [
    "## Using Gradient Descent to Optimize our House Price Model\n",
    "\n",
    "Now that we've explored the basics of gradient descent, let's return to our Linear Regression house price problem and use gradient descent to find the optimal parameters for our linear model. To do so, we'll use the L2 loss function, which is quite similar to the L1 loss function we examined above, only the L2 loss squares the errors for each observation rather than taking the absolute value as the L1 loss does:\n",
    "\n",
    "$$L1\\ Loss = \\sum_{i=1}^n |\\ \\hat{y}_i-y_i\\ |$$\n",
    "$$L2\\ Loss = \\sum_{i=1}^n (\\ \\hat{y}_i-y_i\\ )^2$$\n",
    "\n",
    "In fact, to simplify the math a little bit, we'll use a slight modification of the L2 loss. While the L2 loss, or [<b>Sum of Squared Error Loss</b>](https://en.wikipedia.org/wiki/Residual_sum_of_squares) (SSE) sums the squared errors for each input observation, we'll compute the Half-Mean Sum of Squared Error, which is just the $\\frac{1}{2n} \\times SSE$:\n",
    "\n",
    "$$\\textit{Half-Mean SSE Loss} = \\frac{1}{2n} \\sum_{i=1}^n (\\ \\hat{y}_i-y_i\\ )^2 $$\n",
    "\n",
    "where:\n",
    "\n",
    "$$ \\hat{y} = m \\times x_i + b $$\n",
    "\n",
    "As we noted above, $\\hat{y}$ is just a shorthand for the value predicted by our function for a line. If we substitute in the function that generates $\\hat{y}$, we get the full loss function $L$:\n",
    "\n",
    "$$\\textit{Half-Mean SSE Loss(m, b)} = \\frac{1}{2n} \\sum_{i=1}^n (\\ m \\times x_i + b - y_i\\ )^2 \\tag{1}$$\n",
    "\n",
    "To find the derivative of this loss function with respect to $m$ and $b$ (the two parameters with which we define our line), we can break this loss function into two pieces:\n",
    "\n",
    "$$\\textit{L(m, b)} = \\frac{1}{2n} \\sum_{i=1}^n (f(m, b)^{(i)})^2\\tag{2}$$\n",
    "\n",
    "$$f(m, b)^{(i)} = m \\times x_i + b - y_i\\tag{3}$$\n",
    "\n",
    "Here the $i$ superscript indicates that the given loss term is computed for the $ith$ set of inputs (the $ith$ $x$ and $y$ values in the training data).\n",
    "\n",
    "If you substitute (3) into (2), you should see this composes the full loss function (1). Now all we need to do is differentiate (1) and (2) with respect to $m$ and $b$ and we'll be ready to run gradient descent.\n",
    "\n",
    "### Finding the gradient with respect to $b$\n",
    "\n",
    "Let's start by computing the slope (or derivative) of (2) with respect to $b$.\n",
    "\n",
    "\\begin{align*}\n",
    "\\frac{\\delta}{\\delta{b}} L(m, b) &= \\frac{\\delta}{\\delta{b}} \\frac{1}{2n} \\sum_{i=1}^n (f(m, b)^{(i)} )^2 \\tag{3} \\\\\n",
    "&= 2 \\times \\frac{1}{2n} \\sum_{i=1}^n f(m, b)^{(i)} \\tag{exponent rule} \\\\\n",
    "&= \\frac{1}{n} \\sum_{i=1}^n f(m, b)^{(i)} \\tag{simplify}\n",
    "\\end{align*}\n",
    "\n",
    "Given these equations we can compute the derivative of (3) with respect to $b$:\n",
    "\n",
    "\\begin{align*}\n",
    "\\frac{\\delta}{\\delta{b}} f(m, b)^{(i)} &= \\frac{\\delta}{\\delta{b}} m \\times x_i + b - y_i\\tag{4} \\\\\n",
    "\\end{align*}\n",
    "\n",
    "Since we are computing the derivative with respect to $b$, we can treat all terms that don't contain an $b$ as constants. Since the derivative of a constant is zero, we get:\n",
    "\n",
    "\\begin{align*}\n",
    "\\frac{\\delta}{\\delta{b}} f(m, b)^{(i)} &= \\frac{\\delta}{\\delta{b}} m \\times x_i + b - y_i \\\\\n",
    "&= \\frac{\\delta}{\\delta{b}} 0 + b - 0\\tag{simplify} \\\\\n",
    "&= \\frac{\\delta}{\\delta{b}} b \\tag{simplify} \\\\\n",
    "&= 1 \\tag{simplify} \\\\\n",
    "\\end{align*}\n",
    "\n",
    "Using the [chain rule](https://en.wikipedia.org/wiki/Chain_rule), we can combine (3) and (4):\n",
    "\n",
    "\\begin{align*}\n",
    "\\frac{\\delta}{\\delta{b}}L(f(m, b)^{(i)}) &= \\frac{\\delta}{\\delta{b}} L(m, b) \\frac{\\delta}{\\delta{b}} f(m, b)^{(i)} \\tag{5}\n",
    "\\end{align*}\n",
    "\n",
    "Substituting in the partial derivatives with respect to $b$ we computed above in (3) and (4), we can compute the full partial derivative of $L$ with respect to $b$:\n",
    "\n",
    "\\begin{align*}\n",
    "\\frac{1}{n} \\sum_{i=1}^{n} f(m, b)^{(i)} \\times 1 \\tag{6} \\\\\n",
    "\\frac{1}{n} \\sum_{i=1}^{n} (m \\times x_i + b - y_i) \\times 1 \\tag{simplify} \\\\\n",
    "\\frac{1}{n} \\sum_{i=1}^{n} m \\times x_i + b - y_i \\tag{simplify} \\\\\n",
    "\\end{align*}\n",
    "\n",
    "There we have it! The final equation above represents the partial derivative of our loss function with respect to $b$. Let's now compute the partial derivative of our loss function with respect to $m$.\n",
    "\n",
    "### Finding the gradient with respect to $m$\n",
    "\n",
    "The partial derivative of the outer function $L$ with respect to $m$ is the same as the partial derivative of $L$ with respect to $b$:\n",
    "\n",
    "$$ \\frac{\\delta}{\\delta{m}} L(m, b) = \\frac{1}{n} \\sum_{i=1}^n f(m, b)^{(i)} \\tag{from 3} $$\n",
    "\n",
    "Let's compute the derivative of $f$ with respect to $m$:\n",
    "\n",
    "\\begin{align*}\n",
    "\\frac{\\delta}{\\delta{m}} f(m, b)^{(i)} &= \\frac{\\delta}{\\delta{m}} m \\times x_i + b - y_i \\tag{7} \\\\\n",
    "\\end{align*}\n",
    "\n",
    "Just as before, we can treat all terms that don't contain the variable with respect to which we're differentiating the function as constants, for which the partial derivative will be 0:\n",
    "\n",
    "\\begin{align*}\n",
    "\\frac{\\delta}{\\delta{m}} f(m, b)^{(i)} &= \\frac{\\delta}{\\delta{m}} m \\times x_i + b - y_i \\\\\n",
    "&= \\frac{\\delta}{\\delta{m}} m \\times x_i + 0 - 0\\tag{simplify} \\\\\n",
    "&= \\frac{\\delta}{\\delta{m}} m \\times x_i \\tag{simplify} \\\\\n",
    "&= x_i \\tag{simplify} \\\\\n",
    "\\end{align*}\n",
    "\n",
    "Using the chain rule, we can identify the full derivative of $L$ with respect to $m$:\n",
    "\n",
    "\\begin{align*}\n",
    "\\frac{\\delta}{\\delta{m}} L(f(m, b)) &= \\frac{\\delta}{\\delta{m}} L(m, b) \\frac{\\delta}{\\delta{m}} f(m, b) \\tag{8} \\\\\n",
    "&= \\frac{1}{n} \\sum_{i=1}^n f(m, b)^{(i)} \\frac{\\delta}{\\delta{m}} f(m, b)^{(i)} \\\\\n",
    "&= \\frac{1}{n} \\sum_{i=1}^n (m \\times x_i + b - y_i) \\times x_i\n",
    "\\end{align*}\n",
    "\n",
    "---\n",
    "\n",
    "Phew! We've finally computed the partial derivatives of our linear function with respect to our two model parameters $m$ and $b$:\n",
    "\n",
    "$$ \\frac{\\delta{L}}{\\delta{b}} = \\frac{1}{n} \\sum_{i=1}^{n} m \\times x_i + b - y_i $$\n",
    "$$ \\frac{\\delta{L}}{\\delta{m}} = \\frac{1}{n} \\sum_{i=1}^n (m \\times x_i + b - y_i) \\times x_i $$\n",
    "\n",
    "As we've noted, these partial derivatives let us determine the slope of the loss function with respect to the given variable ($m$ or $b$) at a given point along the loss curve. Now all we need to do is choose starting parameters for $m$ and $b$ and run the gradient descent algorithm described above. In the case of our linear model, we have two parameters we need to fit ($m$ and $b$), so we can run gradient descent to optimize those parameters with the following block:"
   ]
  },
  {
   "cell_type": "code",
   "execution_count": 10,
   "metadata": {},
   "outputs": [
    {
     "name": "stdout",
     "output_type": "stream",
     "text": [
      "resulting params -- m: 0.2030474489308772 b: 0.6599472155004452\n"
     ]
    }
   ],
   "source": [
    "from random import random\n",
    "\n",
    "# initialize random parameters for model parameters\n",
    "m = random()\n",
    "b = random()\n",
    "\n",
    "# set an alpha value or learning rate\n",
    "alpha = 0.0000001\n",
    "\n",
    "def iterate(m, b):\n",
    "  '''Compute dL/db and dL/dm then update the estimates for m and b'''\n",
    "  errs = []\n",
    "  for idx, x in enumerate(footage):\n",
    "    actual = prices[idx]\n",
    "    predicted = (m * x) + b\n",
    "    errs.append(predicted - actual)\n",
    "  \n",
    "  # compute dL/db\n",
    "  dLdb = sum(errs) / len(errs)\n",
    "  \n",
    "  # compute dL/dm\n",
    "  m_errs = [errs[idx] * footage[idx] for idx, _ in enumerate(footage)]\n",
    "  dLdm = sum(m_errs) / len(m_errs)\n",
    "  \n",
    "  # update the model parameters given the loss values  \n",
    "  b -= (dLdb * alpha)\n",
    "  m -= (dLdm * alpha)\n",
    "\n",
    "  # return the model parameters and the absolute value of the loss terms\n",
    "  return m, b, abs(dLdb), abs(dLdm)\n",
    "\n",
    "# iterate while the error terms remain above some threshold\n",
    "m, b, dLdb, dLdm = iterate(m, b)\n",
    "threshold = 0.5\n",
    "while dLdb > threshold or dLdm > threshold:\n",
    "  m, b, dLdb, dLdm = iterate(m, b)\n",
    "  \n",
    "# identify the resulting model params\n",
    "print('resulting params -- m:', m, 'b:', b)"
   ]
  },
  {
   "cell_type": "markdown",
   "metadata": {},
   "source": [
    "Now that we've estimated the model parameters, let's visualize how well the resulting line fits the data:"
   ]
  },
  {
   "cell_type": "code",
   "execution_count": 11,
   "metadata": {},
   "outputs": [
    {
     "data": {
      "text/plain": [
       "[<matplotlib.lines.Line2D at 0x1168d1438>]"
      ]
     },
     "execution_count": 11,
     "metadata": {},
     "output_type": "execute_result"
    },
    {
     "data": {
      "image/png": "[encoded data removed]",
      "text/plain": [
       "<Figure size 432x288 with 1 Axes>"
      ]
     },
     "metadata": {
      "needs_background": "light"
     },
     "output_type": "display_data"
    }
   ],
   "source": [
    "# plot the resulting model params\n",
    "plt.scatter(footage, prices)\n",
    "plt.xlabel('House Square Footage')\n",
    "plt.ylabel('House Price (in thousands)')\n",
    "\n",
    "# find the fit model's x, y values for the first, last observations in the dataset\n",
    "x_vals = [ footage[0], footage[len(footage)-1] ]\n",
    "y_vals = [ m * x_vals[0] + b, m * x_vals[1] + b ]\n",
    "\n",
    "plt.plot(x_vals, y_vals, color='red')"
   ]
  },
  {
   "cell_type": "markdown",
   "metadata": {},
   "source": [
    "Awesome! Using gradient descent, we optimized $m$ and $b$ to find model parameters that minimize our selected loss function, the Half-Mean Sum of Squared Error.\n",
    "\n",
    "If we in fact visualized the model parameters after each iteration of gradient descent, we should find that the linear model slowly and continuously approaches its optimal resting place [[source](https://bl.ocks.org/duhaime/0805ea30469cb970e3202e400b60ad2a)]:"
   ]
  },
  {
   "cell_type": "code",
   "execution_count": 1,
   "metadata": {},
   "outputs": [
    {
     "data": {
      "text/html": [
       "\n",
       "        <iframe\n",
       "            width=\"1000\"\n",
       "            height=\"640\"\n",
       "            src=\"https://s3.amazonaws.com/duhaime/blog/visualizations/linear-regression-gradient-descent.html\"\n",
       "            frameborder=\"0\"\n",
       "            allowfullscreen\n",
       "        ></iframe>\n",
       "        "
      ],
      "text/plain": [
       "<IPython.lib.display.IFrame at 0x112110208>"
      ]
     },
     "execution_count": 1,
     "metadata": {},
     "output_type": "execute_result"
    }
   ],
   "source": [
    "from IPython.display import IFrame\n",
    "\n",
    "IFrame(src='https://s3.amazonaws.com/duhaime/blog/visualizations/linear-regression-gradient-descent.html', width=1000, height=640)"
   ]
  },
  {
   "cell_type": "markdown",
   "metadata": {},
   "source": [
    "That's all there is to it! Using gradient descent as we have done above lets us efficiently optimize model parameters. While we've only used gradient descent to improve a linear model, however, researchers use exactly the same gradient descent algorithm (and slight variations thereof) to build neural network models. In fact, numerical optimization of the sort we've just discussed is ubiqutious in machine learning, so congratulations on getting this far!"
   ]
  },
  {
   "cell_type": "markdown",
   "metadata": {},
   "source": [
    "# Conclusion\n",
    "\n",
    "This has been a whirlwind tour through numerical optimization through one of the simplest of application cases, linear regression. As we've seen, linear regression models are tools that let us find a line of best fit within some continuous data. While we used the square footage of a house to predict the house price, there are lots of applications for linear models in machine learning.\n",
    "\n",
    "More importantly, focusing on linear models let us consider the fundamental engine of modern machine learning, namely numerical optimization. We discussed the fact that one can use a loss function to measure the degree to which a linear regression model fits some data. We also discussed the fact that running a parameter sweep over each model parameter lets us visualize a full loss function that shows how the model fit improves or degrades as each variable changes. Finally, we discussed the fact that we want to find a minimum of this loss function in order to identify the parameters that give the model its best fit. To find the minimum of our loss function, we used gradient descent, a popular technique for finding the minimum of some function.\n",
    "\n",
    "If you've been able to internalize the core concepts above&mdash;particularly the role of a loss function and the way gradient descent lets us find minimum of that loss function, a.k.a. optimal model parameters&mdash;pat yourself on the back, as you're well on your way to mastering machine learning! To continue on your machine learning journey, feel free to consult the sources below:"
   ]
  },
  {
   "cell_type": "markdown",
   "metadata": {},
   "source": [
    "# Going Further\n",
    "\n",
    "From what we've discussed above, you will be prepared to analyze backpropagation in the context of neural networks, which are functions just like our linear regression function above (except neural networks have more internal function parameters than slope and intercept). For a simple notebook that shows how to use backpropagation to find optimal model parameters for a simple binary classificaiton task, you could refer to [this gist](https://gist.github.com/duhaime/9854126f79e3f1bb986b1c4894a4892d).\n",
    "\n",
    "If it seems like machine learning will be important in your work, you may want to check out some of the resources listed below (arranged roughly from least to most technical):\n",
    "\n",
    "* [A Friendly Introduction to Machine Learning](https://www.youtube.com/watch?v=IpGxLWOIZy4)\n",
    "\n",
    "In this 30 minute video, Luis Serrano (head of machine learning at Udacity) offers intuitive, user-friendly introductions to the mechanics that drive a number of machine learning models, including Naive Bayes, Decision Tree, Logistic Regression, Neural Network, and Support Vector Machine classifiers. This video is a great place to start for those looking for quick intuitions about the ways these algorithms work.\n",
    "\n",
    "* [Hands-On Machine Learning with Scikit-Learn and TensorFlow (OREILLY)](http://shop.oreilly.com/product/0636920052289.do)\n",
    "\n",
    "This OREILLY book offers a great high-level introduction to machine learning with Python. Aurélien Géron guides readers through ways one can use scikit-learn and other popular libraries to build machine learning models in Python. This is a great choice for those who just want to get work done, without necessarily unlocking the insights that would allow one to build models from scratch.\n",
    "\n",
    "* [Machine Learning Cheatsheets](https://becominghuman.ai/cheat-sheets-for-ai-neural-networks-machine-learning-deep-learning-big-data-678c51b4b463)\n",
    "\n",
    "This collection of \"cheat sheets\" gives concise overviews of the api's and models behind many of the most prominent packages and concepts in machine learning and its allied fields, including different neural network architectures, numerical optimization techniques, algorithms appropriate for different tasks, scikit-learn, pandas, scikit-learn, scipy, ggpot2, dplyr and tidyr, big O notation, and a number of other topics. Recently identified as the \"most popular\" article on machine learning in Medium.\n",
    "\n",
    "* [Mining of Massive Datasets](http://www.mmds.org/)\n",
    "\n",
    "This Stanford University course and digital publication offer introductions to a wide array of subtopics in machine learning. The authors focus on helping readers gain an intuitive understanding of how machine learning models work. One of the most lucid and concise treatments of machine learning available on the web.\n",
    "\n",
    "* [Convolutional Neural Networks for Visual Recognition](http://cs231n.stanford.edu/)\n",
    "\n",
    "This Stanford University course offers a spectacular introduction to Convolutional Neural Networks, the cornerstone of modern machine learning in the domain of computer vision. If your work involves images or video materials, and you'd like to apply machine learning techniques to your data, this course will help you get up and running with state-of-the-art techniques in convnets.\n",
    "\n",
    "* [Machine Learning (Andrew Ng, Coursera)](https://www.coursera.org/learn/machine-learning)\n",
    "\n",
    "Andrew Ng's Coursera course on machine learning will help you master many of the fundamentals involved in modern machine learning. Professor Ng will guide you through a great deal of the math involved in contemporary machine learning, starting with simple linear classifiers and building up into complex neural network architectures. This class is ideal for those who like to understand the math behind the models they use."
   ]
  }
 ],
 "metadata": {
  "kernelspec": {
   "display_name": "Python 3",
   "language": "python",
   "name": "python3"
  },
  "language_info": {
   "codemirror_mode": {
    "name": "ipython",
    "version": 3
   },
   "file_extension": ".py",
   "mimetype": "text/x-python",
   "name": "python",
   "nbconvert_exporter": "python",
   "pygments_lexer": "ipython3",
   "version": "3.7.3"
  }
 },
 "nbformat": 4,
 "nbformat_minor": 2
}
