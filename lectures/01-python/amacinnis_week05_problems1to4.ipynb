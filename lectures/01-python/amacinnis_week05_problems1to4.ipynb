{
 "cells": [
  {
   "cell_type": "code",
   "execution_count": 1,
   "metadata": {},
   "outputs": [],
   "source": [
    "from __future__ import print_function"
   ]
  },
  {
   "cell_type": "markdown",
   "metadata": {},
   "source": [
    "# Note\n",
    "The first time you run this, using any function that asks the user for input may not work. If you restart the kernel (on the menu at the top of the notebook, `kernel -> restart & clear output`) and try again, it should work."
   ]
  },
  {
   "cell_type": "markdown",
   "metadata": {},
   "source": [
    "---\n",
    "## Exercise 1: Rock-Paper-Scissors\n",
    "\n",
    "Implement a set of games of rock-paper-scissors against the computer.  \n",
    "\n",
    "  * Ask for input from the user (\"rock\", \"paper\", or \"scissors\") and the randomly select one of these for the computer's play.\n",
    "  * Announce who won.\n",
    "  * Keep playing until a player says that they no longer want to play.\n",
    "  * When all games are done, print out how many games were won by the player and by the computer "
   ]
  },
  {
   "cell_type": "markdown",
   "metadata": {},
   "source": [
    "---\n",
    "### My solution:\n",
    "Each move in the game is an object of the `RockPaperScissors` class. This allows us to compare moves using the `<`, `>`, and `==` operators:\n",
    "- `\"rock\" > \"scissors\"`\n",
    "- `\"paper\" > \"rock\"`\n",
    "- `\"scissors\" > \"paper\"`"
   ]
  },
  {
   "cell_type": "code",
   "execution_count": 3,
   "metadata": {},
   "outputs": [],
   "source": [
    "import random\n",
    "\n",
    "\n",
    "class RockPaperScissors(object):\n",
    "    \"\"\"Play rock paper scissors.\n",
    "    \n",
    "    How it works:\n",
    "    - Rock beats scissors.\n",
    "    - Paper beats rock.\n",
    "    - Scissors beats paper.\n",
    "    \"\"\"\n",
    "    \n",
    "    \n",
    "    def __init__(self, move):\n",
    "        \"\"\"Make a move in a game of rock, paper, scissors.\n",
    "        \n",
    "        Parameters\n",
    "        ----------\n",
    "        move : str\n",
    "            The chosen move. Must begin with (upper- or lower-case) 'r', 'p', or 's',\n",
    "            for 'rock', 'paper', or 'scissors'.\n",
    "        \n",
    "        Raises\n",
    "        ------\n",
    "        ValueError\n",
    "            When `move` is not one of the valid moves listed above.\n",
    "        \"\"\"\n",
    "        self.moves = [\"r\", \"p\", \"s\"] # valid moves: rock, paper, scissors\n",
    "        self.move = move.lower()[0] # get the (lowercase) first letter of the move\n",
    "        if self.move not in self.moves:\n",
    "            raise(ValueError(\"Invalid move. Your move must be 'rock', 'paper', or 'scissors'.\"))\n",
    "            \n",
    "            \n",
    "    def check(self, other):\n",
    "        \"\"\"Check if the argument `other` is also a `RockPaperScissors` object.\n",
    "        \n",
    "        Parameters\n",
    "        ----------\n",
    "        other : RockPaperScissors\n",
    "            A `RockPaperScissors` object.\n",
    "            \n",
    "        Raises\n",
    "        ------\n",
    "        ValueError\n",
    "            When `other` is not a `RockPaperScissors` object.\n",
    "        \"\"\"\n",
    "        if not isinstance(other, RockPaperScissors):\n",
    "            raise(ValueError(\"Can't compare your move with the other move: {}\".format(other)))\n",
    "            \n",
    "            \n",
    "    def __gt__(self, other):\n",
    "        \"\"\"Comparison of `self.move` > `other.move`:\n",
    "            rock > scissors,\n",
    "            paper > rock,\n",
    "            scissors > paper.\n",
    "            \n",
    "        Parameters\n",
    "        ----------\n",
    "        other : RockPaperScissors\n",
    "            A `RockPaperScissors` object.\n",
    "            \n",
    "        Returns\n",
    "        -------\n",
    "        bool\n",
    "            True if `self.move` beats `other.move`, otherwise False.\n",
    "        \"\"\"\n",
    "        self.check(other) \n",
    "        # pairs of (self.move, other.move) that result self.move beating other.move:\n",
    "        win = [(\"r\", \"s\"), (\"p\", \"r\"), (\"s\", \"p\")] \n",
    "        # return value will be True if self.move beats other.move:\n",
    "        return (self.move, other.move) in win \n",
    "        \n",
    "        \n",
    "    def __lt__(self, other):\n",
    "        \"\"\"Comparison of `self.move` < `other.move`:\n",
    "            rock < paper\n",
    "            paper < scissors\n",
    "            scissors < rock.\n",
    "            \n",
    "        Parameters\n",
    "        ----------\n",
    "        other : RockPaperScissors\n",
    "            A `RockPaperScissors` object.\n",
    "            \n",
    "        Returns\n",
    "        -------\n",
    "        bool\n",
    "            True if `other.move` beats `self.move`, otherwise False.\n",
    "        \"\"\"\n",
    "        self.check(other) \n",
    "        # pairs of (self.move, other.move) that result self.move beating other.move:\n",
    "        lose = [(\"r\", \"p\"), (\"p\", \"s\"), (\"s\", \"r\")] \n",
    "        # return value will be True if other.move beats self.move:\n",
    "        return (self.move, other.move) in lose\n",
    "    \n",
    "    \n",
    "    def __eq__(self, other):\n",
    "        \"\"\"Check if `self.move` is equivalent to `other.move`.\n",
    "        \n",
    "        Parameters\n",
    "        ----------\n",
    "        other : RockPaperScissors\n",
    "            A `RockPaperScissors` object.\n",
    "            \n",
    "        Returns\n",
    "        -------\n",
    "        bool\n",
    "            True if `self.move` and `other.move` are the same moves, otherwise False.\n",
    "        \"\"\"\n",
    "        self.check(other)\n",
    "        return self.move == other.move"
   ]
  },
  {
   "cell_type": "markdown",
   "metadata": {},
   "source": [
    "Define a function `play()` to play against the computer. The user will be asked to enter their move, and the computer will choose a random move. The winner will be determined, and the user will be asked if they would like to play again. At the end, the number of wins, losses, and ties is printed out."
   ]
  },
  {
   "cell_type": "code",
   "execution_count": 6,
   "metadata": {},
   "outputs": [],
   "source": [
    "def play():\n",
    "    \"\"\"When called, this function will generate a random move in a game of rock, paper, scissors,\n",
    "    and then ask the user for their move. It will tell the player who won, and ask if they'd like to play again.\n",
    "    After the game, it will print out the number of wins by the player, by the computer, and number of ties.\n",
    "    \"\"\"\n",
    "    moves = [\"rock\", \"paper\", \"scissors\"] # valid moves for computer to choose from\n",
    "    # keep track of player wins, losses, and ties\n",
    "    n_won = 0\n",
    "    n_lost = 0\n",
    "    n_tie = 0\n",
    "    \n",
    "    playing = True\n",
    "    while playing:\n",
    "        print(\"\\nRock, paper, scissors, says shoot!\")\n",
    "        # computer goes first - no cheating!\n",
    "        random_move = random.choice(moves) \n",
    "        computer_move = RockPaperScissors(random_move)\n",
    "        \n",
    "        # ask the player for their move\n",
    "        player_input = input(\"Enter 'rock', 'paper', or 'scissors' (enter 'q' to quit playing): \")\n",
    "        # check if they want to quit, otherwise keep playing\n",
    "        if player_input.lower()[0] == \"q\":\n",
    "            playing = False\n",
    "        else:\n",
    "            player_move = RockPaperScissors(player_input)\n",
    "            print(\"The computer threw: {}\".format(random_move))\n",
    "            print(\"You threw:          {}\".format(player_input))\n",
    "\n",
    "            # determine the winner\n",
    "            if player_move > computer_move:\n",
    "                print(\"You won!\")\n",
    "                n_won += 1\n",
    "            elif player_move < computer_move:\n",
    "                print(\"Sorry, you lost!\")\n",
    "                n_lost += 1\n",
    "            else:\n",
    "                print(\"There was a tie.\")\n",
    "                n_tie += 1\n",
    "            \n",
    "    print(\"\\nYou played {} total games.\".format(n_won+n_lost+n_tie))\n",
    "    print(\"You won {}, lost {}, and there were {} ties.\".format(n_won, n_lost, n_tie))\n",
    "    print(\"Thanks for playing!\")"
   ]
  },
  {
   "cell_type": "markdown",
   "metadata": {},
   "source": [
    "Test the function:"
   ]
  },
  {
   "cell_type": "code",
   "execution_count": 7,
   "metadata": {},
   "outputs": [
    {
     "name": "stdout",
     "output_type": "stream",
     "text": [
      "\n",
      "Rock, paper, scissors, says shoot!\n",
      "Enter 'rock', 'paper', or 'scissors' (enter 'q' to quit playing): r\n",
      "The computer threw: scissors\n",
      "You threw:          r\n",
      "You won!\n",
      "\n",
      "Rock, paper, scissors, says shoot!\n",
      "Enter 'rock', 'paper', or 'scissors' (enter 'q' to quit playing): r\n",
      "The computer threw: paper\n",
      "You threw:          r\n",
      "Sorry, you lost!\n",
      "\n",
      "Rock, paper, scissors, says shoot!\n",
      "Enter 'rock', 'paper', or 'scissors' (enter 'q' to quit playing): r\n",
      "The computer threw: scissors\n",
      "You threw:          r\n",
      "You won!\n",
      "\n",
      "Rock, paper, scissors, says shoot!\n",
      "Enter 'rock', 'paper', or 'scissors' (enter 'q' to quit playing): r\n",
      "The computer threw: scissors\n",
      "You threw:          r\n",
      "You won!\n",
      "\n",
      "Rock, paper, scissors, says shoot!\n",
      "Enter 'rock', 'paper', or 'scissors' (enter 'q' to quit playing): q\n",
      "\n",
      "You played 4 total games.\n",
      "You won 3, lost 1, and there were 0 ties.\n",
      "Thanks for playing!\n"
     ]
    }
   ],
   "source": [
    "play()"
   ]
  },
  {
   "cell_type": "markdown",
   "metadata": {},
   "source": [
    "Try giving it bad input:"
   ]
  },
  {
   "cell_type": "code",
   "execution_count": 21,
   "metadata": {},
   "outputs": [
    {
     "name": "stdout",
     "output_type": "stream",
     "text": [
      "\n",
      "Rock, paper, scissors, says shoot!\n",
      "Enter 'rock', 'paper', or 'scissors' (enter 'q' to quit playing): yes\n"
     ]
    },
    {
     "ename": "ValueError",
     "evalue": "Invalid move. Your move must be 'rock', 'paper', or 'scissors'.",
     "output_type": "error",
     "traceback": [
      "\u001b[0;31m---------------------------------------------------------------------------\u001b[0m",
      "\u001b[0;31mValueError\u001b[0m                                Traceback (most recent call last)",
      "\u001b[0;32m<ipython-input-21-e86d8888f57e>\u001b[0m in \u001b[0;36m<module>\u001b[0;34m()\u001b[0m\n\u001b[0;32m----> 1\u001b[0;31m \u001b[0mplay\u001b[0m\u001b[0;34m(\u001b[0m\u001b[0;34m)\u001b[0m\u001b[0;34m\u001b[0m\u001b[0m\n\u001b[0m",
      "\u001b[0;32m<ipython-input-19-57b036959819>\u001b[0m in \u001b[0;36mplay\u001b[0;34m()\u001b[0m\n\u001b[1;32m     22\u001b[0m             \u001b[0mplaying\u001b[0m \u001b[0;34m=\u001b[0m \u001b[0mFalse\u001b[0m\u001b[0;34m\u001b[0m\u001b[0m\n\u001b[1;32m     23\u001b[0m         \u001b[0;32melse\u001b[0m\u001b[0;34m:\u001b[0m\u001b[0;34m\u001b[0m\u001b[0m\n\u001b[0;32m---> 24\u001b[0;31m             \u001b[0mplayer_move\u001b[0m \u001b[0;34m=\u001b[0m \u001b[0mRockPaperScissors\u001b[0m\u001b[0;34m(\u001b[0m\u001b[0mplayer_input\u001b[0m\u001b[0;34m)\u001b[0m\u001b[0;34m\u001b[0m\u001b[0m\n\u001b[0m\u001b[1;32m     25\u001b[0m             \u001b[0;32mprint\u001b[0m\u001b[0;34m(\u001b[0m\u001b[0;34m\"The computer threw: {}\"\u001b[0m\u001b[0;34m.\u001b[0m\u001b[0mformat\u001b[0m\u001b[0;34m(\u001b[0m\u001b[0mrandom_move\u001b[0m\u001b[0;34m)\u001b[0m\u001b[0;34m)\u001b[0m\u001b[0;34m\u001b[0m\u001b[0m\n\u001b[1;32m     26\u001b[0m             \u001b[0;32mprint\u001b[0m\u001b[0;34m(\u001b[0m\u001b[0;34m\"You threw: {}\"\u001b[0m\u001b[0;34m.\u001b[0m\u001b[0mformat\u001b[0m\u001b[0;34m(\u001b[0m\u001b[0mplayer_input\u001b[0m\u001b[0;34m)\u001b[0m\u001b[0;34m)\u001b[0m\u001b[0;34m\u001b[0m\u001b[0m\n",
      "\u001b[0;32m<ipython-input-10-638fcfb349c1>\u001b[0m in \u001b[0;36m__init__\u001b[0;34m(self, move)\u001b[0m\n\u001b[1;32m     14\u001b[0m         \u001b[0mself\u001b[0m\u001b[0;34m.\u001b[0m\u001b[0mmove\u001b[0m \u001b[0;34m=\u001b[0m \u001b[0mmove\u001b[0m\u001b[0;34m.\u001b[0m\u001b[0mlower\u001b[0m\u001b[0;34m(\u001b[0m\u001b[0;34m)\u001b[0m\u001b[0;34m[\u001b[0m\u001b[0;36m0\u001b[0m\u001b[0;34m]\u001b[0m \u001b[0;31m# get the (lowercase) first letter of the move\u001b[0m\u001b[0;34m\u001b[0m\u001b[0m\n\u001b[1;32m     15\u001b[0m         \u001b[0;32mif\u001b[0m \u001b[0mself\u001b[0m\u001b[0;34m.\u001b[0m\u001b[0mmove\u001b[0m \u001b[0;32mnot\u001b[0m \u001b[0;32min\u001b[0m \u001b[0mself\u001b[0m\u001b[0;34m.\u001b[0m\u001b[0mmoves\u001b[0m\u001b[0;34m:\u001b[0m\u001b[0;34m\u001b[0m\u001b[0m\n\u001b[0;32m---> 16\u001b[0;31m             \u001b[0;32mraise\u001b[0m\u001b[0;34m(\u001b[0m\u001b[0mValueError\u001b[0m\u001b[0;34m(\u001b[0m\u001b[0;34m\"Invalid move. Your move must be 'rock', 'paper', or 'scissors'.\"\u001b[0m\u001b[0;34m)\u001b[0m\u001b[0;34m)\u001b[0m\u001b[0;34m\u001b[0m\u001b[0m\n\u001b[0m\u001b[1;32m     17\u001b[0m \u001b[0;34m\u001b[0m\u001b[0m\n\u001b[1;32m     18\u001b[0m \u001b[0;34m\u001b[0m\u001b[0m\n",
      "\u001b[0;31mValueError\u001b[0m: Invalid move. Your move must be 'rock', 'paper', or 'scissors'."
     ]
    }
   ],
   "source": [
    "play()"
   ]
  },
  {
   "cell_type": "markdown",
   "metadata": {},
   "source": [
    "But, the function input is case-insensitive and handle typos and variations in the user input reasonably well:"
   ]
  },
  {
   "cell_type": "code",
   "execution_count": 22,
   "metadata": {},
   "outputs": [
    {
     "name": "stdout",
     "output_type": "stream",
     "text": [
      "\n",
      "Rock, paper, scissors, says shoot!\n",
      "Enter 'rock', 'paper', or 'scissors' (enter 'q' to quit playing): r\n",
      "The computer threw: rock\n",
      "You threw: r\n",
      "There was a tie.\n",
      "\n",
      "Rock, paper, scissors, says shoot!\n",
      "Enter 'rock', 'paper', or 'scissors' (enter 'q' to quit playing): Rock\n",
      "The computer threw: scissors\n",
      "You threw: Rock\n",
      "You won!\n",
      "\n",
      "Rock, paper, scissors, says shoot!\n",
      "Enter 'rock', 'paper', or 'scissors' (enter 'q' to quit playing): ROCK\n",
      "The computer threw: paper\n",
      "You threw: ROCK\n",
      "Sorry, you lost!\n",
      "\n",
      "Rock, paper, scissors, says shoot!\n",
      "Enter 'rock', 'paper', or 'scissors' (enter 'q' to quit playing): rovk\n",
      "The computer threw: paper\n",
      "You threw: rovk\n",
      "Sorry, you lost!\n",
      "\n",
      "Rock, paper, scissors, says shoot!\n",
      "Enter 'rock', 'paper', or 'scissors' (enter 'q' to quit playing): QUIT\n",
      "\n",
      "You played 4 total games.\n",
      "You won 1, lost 2, and there were 1 ties.\n",
      "Thanks for playing!\n"
     ]
    }
   ],
   "source": [
    "play()"
   ]
  },
  {
   "cell_type": "markdown",
   "metadata": {},
   "source": [
    "---"
   ]
  },
  {
   "cell_type": "markdown",
   "metadata": {},
   "source": [
    "## Exercise 2: Pascal's triangle\n",
    "\n",
    "Pascal's triangle is created such that each layer has 1 more element than the previous, with `1`s on the side and in the interior, the numbers are the sum of the two above it, e.g.,:\n",
    "```\n",
    "            1\n",
    "          1   1\n",
    "        1   2   1\n",
    "      1   3   3   1\n",
    "    1   4   6   4   1\n",
    "  1   5   10  10  5   1\n",
    "```\n",
    "\n",
    "Write a function to return the first `n` rows of Pascal's triangle.  The return should be a list of length `n`, with each element itself a list containing the numbers for that row.\n",
    "\n",
    "<span class=\"fa fa-star\" /> If you want to add complexity, write a function to print out Pascal's triangle with proper formatting, so the numbers in each row are centered between the ones in the row above"
   ]
  },
  {
   "cell_type": "markdown",
   "metadata": {},
   "source": [
    "---\n",
    "### My solution:\n",
    "\n",
    "Let $x_{ij}$ be the $j^{th}$ element of the $i^{th}$ row of the triangle. Each row $i$ has $i+1$ elements, if we begin counting from zero.\n",
    "\n",
    "$$x_{00}$$\n",
    "$$x_{10} \\ \\ \\ x_{11}$$\n",
    "$$x_{20} \\ \\ \\ x_{21} \\ \\ \\ x_{22}$$\n",
    "$$x_{30} \\ \\ \\ x_{31} \\ \\ \\ x_{32} \\ \\ \\ x_{33}$$\n",
    "$$x_{40} \\ \\ \\ x_{41} \\ \\ \\ x_{42} \\ \\ \\ x_{43} \\ \\ \\ x_{44}$$\n",
    "\n",
    "Begin with the first two rows- all elements in the first and second rows ($i = 0$ and $i = 1$) are equal to one:\n",
    "\n",
    "$$x_{ij} = 1 \\ \\ \\ \\textrm{for} \\ \\ \\ i = 0, 1.$$\n",
    "\n",
    "And all of the \"outer\" elements are equal to one:\n",
    "\n",
    "$$x_{i0} = 1, \\ \\ \\ x_{ii} = 1.$$\n",
    "\n",
    "The remaining elements can be found from the previous row:\n",
    "\n",
    "$$x_{ij} = x_{i-1, j-1} + x_{i-1, j} \\ \\ \\ \\textrm{for} \\ \\ \\ 0 < j < i.$$\n",
    "\n",
    "The elements of each row can be contained in a list. Each row is then appended to another list which holds all of the rows. The rows can then be printed one at a time, and optionally formatted to be centered."
   ]
  },
  {
   "cell_type": "code",
   "execution_count": 8,
   "metadata": {},
   "outputs": [],
   "source": [
    "def print_pascal(n, print_formatted=True):\n",
    "    \"\"\"Calculate and print the first n rows of Pascal's triangle.\n",
    "    \n",
    "    Parameters\n",
    "    ----------\n",
    "    n : int\n",
    "        The number of rows of Pascal's triangle to calculate.\n",
    "    print_formatted : bool, default=True\n",
    "        If True, prints the output formatted as a triangle. \n",
    "        Otherwise, just print one row at a time (useful for large n).\n",
    "    \"\"\"\n",
    "    rows = []\n",
    "    # add the first two rows\n",
    "    rows.append([1])\n",
    "    rows.append([1,1])\n",
    "    # fill in the rest of the rows\n",
    "    for i in range(2,n):\n",
    "        row = [0] * (i+1) # begin with zeros\n",
    "        # fill in the outer elements\n",
    "        row[0] = 1\n",
    "        row[i] = 1\n",
    "        # fill in the inner elements using the previous row\n",
    "        for j in range(1,i):\n",
    "            row[j] = rows[i-1][j-1] + rows[i-1][j]\n",
    "        rows.append(row)\n",
    "\n",
    "    # print out the triangle: first turn each row into a string, and then print that string centered\n",
    "    # (this isn't perfect, but it works)\n",
    "    for row in rows:\n",
    "        if print_formatted:\n",
    "            output = \"\"\n",
    "            for number in row:\n",
    "                #output += \" {:5d} \".format(number)\n",
    "                output += \" {:^4s} \".format(str(number))\n",
    "            print(\"{:^120s}\".format(output))\n",
    "        else:\n",
    "            print(row)"
   ]
  },
  {
   "cell_type": "markdown",
   "metadata": {},
   "source": [
    "Test it:"
   ]
  },
  {
   "cell_type": "code",
   "execution_count": 89,
   "metadata": {},
   "outputs": [
    {
     "name": "stdout",
     "output_type": "stream",
     "text": [
      "                                                           1                                                            \n",
      "                                                        1     1                                                         \n",
      "                                                     1     2     1                                                      \n",
      "                                                  1     3     3     1                                                   \n",
      "                                               1     4     6     4     1                                                \n",
      "                                            1     5     10    10    5     1                                             \n"
     ]
    }
   ],
   "source": [
    "print_pascal(6)"
   ]
  },
  {
   "cell_type": "code",
   "execution_count": 9,
   "metadata": {},
   "outputs": [
    {
     "name": "stdout",
     "output_type": "stream",
     "text": [
      "                                                           1                                                            \n",
      "                                                        1     1                                                         \n",
      "                                                     1     2     1                                                      \n",
      "                                                  1     3     3     1                                                   \n",
      "                                               1     4     6     4     1                                                \n",
      "                                            1     5     10    10    5     1                                             \n",
      "                                         1     6     15    20    15    6     1                                          \n",
      "                                      1     7     21    35    35    21    7     1                                       \n",
      "                                   1     8     28    56    70    56    28    8     1                                    \n",
      "                                1     9     36    84   126   126    84    36    9     1                                 \n"
     ]
    }
   ],
   "source": [
    "print_pascal(10)"
   ]
  },
  {
   "cell_type": "code",
   "execution_count": 10,
   "metadata": {},
   "outputs": [
    {
     "name": "stdout",
     "output_type": "stream",
     "text": [
      "[1]\n",
      "[1, 1]\n",
      "[1, 2, 1]\n",
      "[1, 3, 3, 1]\n",
      "[1, 4, 6, 4, 1]\n",
      "[1, 5, 10, 10, 5, 1]\n",
      "[1, 6, 15, 20, 15, 6, 1]\n",
      "[1, 7, 21, 35, 35, 21, 7, 1]\n",
      "[1, 8, 28, 56, 70, 56, 28, 8, 1]\n",
      "[1, 9, 36, 84, 126, 126, 84, 36, 9, 1]\n",
      "[1, 10, 45, 120, 210, 252, 210, 120, 45, 10, 1]\n",
      "[1, 11, 55, 165, 330, 462, 462, 330, 165, 55, 11, 1]\n",
      "[1, 12, 66, 220, 495, 792, 924, 792, 495, 220, 66, 12, 1]\n",
      "[1, 13, 78, 286, 715, 1287, 1716, 1716, 1287, 715, 286, 78, 13, 1]\n",
      "[1, 14, 91, 364, 1001, 2002, 3003, 3432, 3003, 2002, 1001, 364, 91, 14, 1]\n",
      "[1, 15, 105, 455, 1365, 3003, 5005, 6435, 6435, 5005, 3003, 1365, 455, 105, 15, 1]\n",
      "[1, 16, 120, 560, 1820, 4368, 8008, 11440, 12870, 11440, 8008, 4368, 1820, 560, 120, 16, 1]\n",
      "[1, 17, 136, 680, 2380, 6188, 12376, 19448, 24310, 24310, 19448, 12376, 6188, 2380, 680, 136, 17, 1]\n",
      "[1, 18, 153, 816, 3060, 8568, 18564, 31824, 43758, 48620, 43758, 31824, 18564, 8568, 3060, 816, 153, 18, 1]\n",
      "[1, 19, 171, 969, 3876, 11628, 27132, 50388, 75582, 92378, 92378, 75582, 50388, 27132, 11628, 3876, 969, 171, 19, 1]\n",
      "[1, 20, 190, 1140, 4845, 15504, 38760, 77520, 125970, 167960, 184756, 167960, 125970, 77520, 38760, 15504, 4845, 1140, 190, 20, 1]\n",
      "[1, 21, 210, 1330, 5985, 20349, 54264, 116280, 203490, 293930, 352716, 352716, 293930, 203490, 116280, 54264, 20349, 5985, 1330, 210, 21, 1]\n",
      "[1, 22, 231, 1540, 7315, 26334, 74613, 170544, 319770, 497420, 646646, 705432, 646646, 497420, 319770, 170544, 74613, 26334, 7315, 1540, 231, 22, 1]\n",
      "[1, 23, 253, 1771, 8855, 33649, 100947, 245157, 490314, 817190, 1144066, 1352078, 1352078, 1144066, 817190, 490314, 245157, 100947, 33649, 8855, 1771, 253, 23, 1]\n",
      "[1, 24, 276, 2024, 10626, 42504, 134596, 346104, 735471, 1307504, 1961256, 2496144, 2704156, 2496144, 1961256, 1307504, 735471, 346104, 134596, 42504, 10626, 2024, 276, 24, 1]\n"
     ]
    }
   ],
   "source": [
    "# if there are too many rows, you can turn off the formatting\n",
    "print_pascal(25, print_formatted=False)"
   ]
  },
  {
   "cell_type": "markdown",
   "metadata": {},
   "source": [
    "---\n",
    "## Exercise 3: Panagrams\n",
    "\n",
    "A _panagram_ is a sentence that includes all 26 letters of the alphabet, e.g., \"_The quick brown fox jumps over the lazy dog_.\"\n",
    "\n",
    "Write a function that takes as an argument a sentence and returns `True` or `False`, indicating whether the sentence is a panagram."
   ]
  },
  {
   "cell_type": "markdown",
   "metadata": {},
   "source": [
    "---\n",
    "### My solution:\n",
    "It may not be the most elegant, but just loop through the letters of the alphabet, and for each, check if that letter is in the sentence."
   ]
  },
  {
   "cell_type": "code",
   "execution_count": 11,
   "metadata": {},
   "outputs": [],
   "source": [
    "def is_panagram(sentence):\n",
    "    \"\"\"Determine if a sentence is a panagram.\n",
    "    \n",
    "    Parameters\n",
    "    ----------\n",
    "    sentence : str\n",
    "        The sentence being considered.\n",
    "        \n",
    "    Returns\n",
    "    -------\n",
    "    panagram : bool\n",
    "        True if the sentence is a panagram, otherwise False.\n",
    "    \"\"\"\n",
    "    import string; alphabet = list(string.ascii_lowercase) # get the alphabet in a list\n",
    "    sentence = sentence.lower()\n",
    "    \n",
    "    # loop through the alphabet, and check if each letter is in the sentence:\n",
    "    panagram = True\n",
    "    for letter in alphabet:\n",
    "        # we only need one letter to be missing for it to no longer be a panagram\n",
    "        if letter not in sentence:\n",
    "            panagram = False\n",
    "        if not panagram:\n",
    "            break # no reason to keep looking\n",
    "    \n",
    "    return panagram"
   ]
  },
  {
   "cell_type": "markdown",
   "metadata": {},
   "source": [
    "Test it:"
   ]
  },
  {
   "cell_type": "code",
   "execution_count": 12,
   "metadata": {},
   "outputs": [
    {
     "name": "stdout",
     "output_type": "stream",
     "text": [
      "The quick brown fox jumps over the lazy dog.\n",
      "Is it a panagram? True\n"
     ]
    }
   ],
   "source": [
    "sentence = \"The quick brown fox jumps over the lazy dog.\"\n",
    "print(sentence)\n",
    "print(\"Is it a panagram?\", is_panagram(sentence))"
   ]
  },
  {
   "cell_type": "code",
   "execution_count": 13,
   "metadata": {},
   "outputs": [
    {
     "name": "stdout",
     "output_type": "stream",
     "text": [
      "Hello, world!\n",
      "Is it a panagram? False\n"
     ]
    }
   ],
   "source": [
    "sentence = \"Hello, world!\"\n",
    "print(sentence)\n",
    "print(\"Is it a panagram?\", is_panagram(sentence))"
   ]
  },
  {
   "cell_type": "markdown",
   "metadata": {},
   "source": [
    "---\n",
    "## Exercise 4: Math practice\n",
    "\n",
    "We want to make a simple table of trigonometric functions for different angles.  Write a code that outputs in columns, the following data:\n",
    "```\n",
    "angle (degrees)    angle (radians)     sin(angle)     cos(angle)    sin(angle)**2 + cos(angle)**2\n",
    "```\n",
    "\n",
    "For all angles spaced 30 degrees apart in the range 0 to 360 degrees.\n",
    "\n",
    "Keep in mind that the trig functions expect the input in radians.\n",
    "\n",
    "---\n",
    "\n",
    "### My solution:\n",
    "- Use the `range()` function to generate angles between 0 and 360 degrees, separated by 30 degrees. \n",
    "- Use the `math` module to do the calculations. \n",
    "- Use string formatting to print the results out in a table."
   ]
  },
  {
   "cell_type": "code",
   "execution_count": 115,
   "metadata": {},
   "outputs": [
    {
     "name": "stdout",
     "output_type": "stream",
     "text": [
      "|-------------|-------------|------------|------------|-----------------------------|\n",
      "| angle (deg) | angle (rad) | sin(angle) | cos(angle) | sin^2(angle) + cos^2(angle) |\n",
      "|-------------|-------------|------------|------------|-----------------------------|\n",
      "|           0 |        0.00 |       0.00 |       1.00 |                        1.00 |\n",
      "|          30 |        0.52 |       0.50 |       0.87 |                        1.00 |\n",
      "|          60 |        1.05 |       0.87 |       0.50 |                        1.00 |\n",
      "|          90 |        1.57 |       1.00 |       0.00 |                        1.00 |\n",
      "|         120 |        2.09 |       0.87 |      -0.50 |                        1.00 |\n",
      "|         150 |        2.62 |       0.50 |      -0.87 |                        1.00 |\n",
      "|         180 |        3.14 |       0.00 |      -1.00 |                        1.00 |\n",
      "|         210 |        3.67 |      -0.50 |      -0.87 |                        1.00 |\n",
      "|         240 |        4.19 |      -0.87 |      -0.50 |                        1.00 |\n",
      "|         270 |        4.71 |      -1.00 |      -0.00 |                        1.00 |\n",
      "|         300 |        5.24 |      -0.87 |       0.50 |                        1.00 |\n",
      "|         330 |        5.76 |      -0.50 |       0.87 |                        1.00 |\n",
      "|         360 |        6.28 |      -0.00 |       1.00 |                        1.00 |\n",
      "|-------------|-------------|------------|------------|-----------------------------|\n"
     ]
    }
   ],
   "source": [
    "import math as m\n",
    "\n",
    "angles = range(0, 390, 30) # degrees\n",
    "\n",
    "# to print the output nicely\n",
    "header = \"| angle (deg) | angle (rad) | sin(angle) | cos(angle) | sin^2(angle) + cos^2(angle) |\"\n",
    "row_template = \"| {:11.0f} | {:11.2f} | {:10.2f} | {:10.2f} | {:27.2f} |\"\n",
    "divider = \"|\" + \"-\"*13 + \"|\" + \"-\"*13 + \"|\" + \"-\"*12 + \"|\" + \"-\"*12 + \"|\" + \"-\"*29 + \"|\" # code isn't pretty, but works\n",
    "\n",
    "# begin the table\n",
    "print(divider)\n",
    "print(header)\n",
    "print(divider)\n",
    "\n",
    "# fill in the rows\n",
    "for angle in angles:\n",
    "    angle = float(angle)\n",
    "    theta = m.radians(angle)\n",
    "    sin = m.sin(theta)\n",
    "    cos = m.cos(theta)\n",
    "    print(row_template.format(angle, theta, sin, cos, sin**2 + cos**2))\n",
    "    \n",
    "print(divider)"
   ]
  },
  {
   "cell_type": "markdown",
   "metadata": {},
   "source": [
    "---\n",
    "## Exercise 5: Calendar events \n",
    "We want to keep a schedule of events.  We will do this by creating a class called `Day`.  It is sketched out below.  A `Day` holds a list of events and has methods that allow you to add an delete events.  Our events will be instances of a class `Event`, which holds the time, location, and description of the event.\n",
    "\n",
    "Finally, we can keep track of a list of all the `Day`s for which we have events to make our schedule.\n",
    "\n",
    "Fill in these classes and write some code to demonstrate their use:\n",
    "\n",
    "  * Create a full week of days in your calendar\n",
    "  * Add an event every day at noon called \"lunch\"\n",
    "  * Randomly add some other events to fill out your calendar\n",
    "  * Write some code that tells you the start time of your first meeting and the end time of your last meeting (this is the length of your work day)"
   ]
  },
  {
   "cell_type": "markdown",
   "metadata": {},
   "source": [
    "---\n",
    "### My solution: Please see the other notebook"
   ]
  },
  {
   "cell_type": "code",
   "execution_count": null,
   "metadata": {
    "collapsed": true
   },
   "outputs": [],
   "source": []
  }
 ],
 "metadata": {
  "kernelspec": {
   "display_name": "Python 3",
   "language": "python",
   "name": "python3"
  },
  "language_info": {
   "codemirror_mode": {
    "name": "ipython",
    "version": 3
   },
   "file_extension": ".py",
   "mimetype": "text/x-python",
   "name": "python",
   "nbconvert_exporter": "python",
   "pygments_lexer": "ipython3",
   "version": "3.7.3"
  }
 },
 "nbformat": 4,
 "nbformat_minor": 2
}
