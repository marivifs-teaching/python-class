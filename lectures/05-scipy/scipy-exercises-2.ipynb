{
 "cells": [
  {
   "cell_type": "code",
   "execution_count": 2,
   "metadata": {},
   "outputs": [],
   "source": [
    "import numpy as np\n",
    "%matplotlib inline\n",
    "import matplotlib.pyplot as plt"
   ]
  },
  {
   "cell_type": "markdown",
   "metadata": {},
   "source": [
    "# Linear Algebra"
   ]
  },
  {
   "cell_type": "markdown",
   "metadata": {},
   "source": [
    "## Q1: Condition number\n",
    "\n",
    "For a linear system, ${\\bf A x} = {\\bf b}$, we can only solve for $x$ if the determinant of the matrix ${\\bf A}$ is non-zero.  If the determinant is zero, then we call the matrix _singular_.  The _condition number_ of a matrix is a measure of how close we are to being singular.  The formal definition is:\n",
    "\\begin{equation}\n",
    "\\mathrm{cond}({\\bf A}) = \\| {\\bf A}\\| \\| {\\bf A}^{-1} \\|\n",
    "\\end{equation}\n",
    "But we can think of it as a measure of how much ${\\bf x}$ would change due to a small change in ${\\bf b}$.  A large condition number means that our solution for ${\\bf x}$ could be inaccurate.\n",
    "\n",
    "A _Hilbert matrix_ has $H_{ij} = (i + j + 1)^{-1}$, and is known to have a large condition number.  Here's a routine to generate a Hilbert matrix"
   ]
  },
  {
   "cell_type": "code",
   "execution_count": 3,
   "metadata": {},
   "outputs": [],
   "source": [
    "def hilbert(n):\n",
    "    \"\"\" return a Hilbert matrix, H_ij = (i + j - 1)^{-1} \"\"\"\n",
    "\n",
    "    H = np.zeros((n,n), dtype=np.float64)\n",
    "\n",
    "    for i in range(1, n+1):\n",
    "        for j in range(1, n+1):\n",
    "            H[i-1,j-1] = 1.0/(i + j - 1.0)\n",
    "    return H"
   ]
  },
  {
   "cell_type": "markdown",
   "metadata": {
    "collapsed": true
   },
   "source": [
    "Let's solve ${\\bf Hx} ={\\bf b}$.  Create a linear system by picking an ${\\bf x}$ and generating a ${\\bf b}$ by multiplying by the matrix ${\\bf H}$.  Then use the `scipy.linalg.solve()` function to recover ${\\bf x}$.  Compute the error in ${\\bf x}$ as a function of the size of the matrix.\n",
    "\n",
    "You won't need a large matrix, $n \\sim 13$ or so, will start showing big errors.\n",
    "\n",
    "You can compute the condition number with `numpy.linalg.cond()`\n",
    "\n",
    "There are methods that can do a better job with nearly-singular matricies.  Take a look at `scipy.linalg.lstsq()` for example."
   ]
  },
  {
   "cell_type": "code",
   "execution_count": 4,
   "metadata": {},
   "outputs": [],
   "source": [
    "from scipy.linalg import solve\n",
    "from numpy.random import rand\n",
    "from numpy.linalg import cond, norm"
   ]
  },
  {
   "cell_type": "code",
   "execution_count": 5,
   "metadata": {},
   "outputs": [
    {
     "name": "stdout",
     "output_type": "stream",
     "text": [
      "Generated vector x: [2]\n",
      "Condition of H: 1.0\n",
      "Magnitude error: 0.0\n",
      "Generated vector x: [ 4 13]\n",
      "Condition of H: 19.281470067903967\n",
      "Magnitude error: 0.0\n",
      "Generated vector x: [ 2 38 12]\n",
      "Condition of H: 524.0567775860627\n",
      "Magnitude error: 3.4180447636511703e-13\n",
      "Generated vector x: [37 18 53  6]\n",
      "Condition of H: 15513.738738929038\n",
      "Magnitude error: 1.326164583660399e-11\n",
      "Generated vector x: [88 35 77 11  2]\n",
      "Condition of H: 476607.25024100044\n",
      "Magnitude error: 8.449872844958373e-10\n",
      "Generated vector x: [67 93 93 39 86 53]\n",
      "Condition of H: 14951058.641453395\n",
      "Magnitude error: 2.1905074324156945e-08\n",
      "Generated vector x: [131  95 106 107  96  10 104]\n",
      "Condition of H: 475367356.9114392\n",
      "Magnitude error: 1.6933893928490565e-06\n",
      "Generated vector x: [105  87 135 116  51  10  28 159]\n",
      "Condition of H: 15257575566.627958\n",
      "Magnitude error: 5.740829595986722e-06\n",
      "Generated vector x: [102 145 169  56   6  85 173 157 113]\n",
      "Condition of H: 493153404551.01215\n",
      "Magnitude error: 0.0018015064130086896\n",
      "Generated vector x: [193  20  68  18  41 159 151 167 185  23]\n",
      "Condition of H: 16025028168113.176\n",
      "Magnitude error: 0.02635251287943887\n",
      "Generated vector x: [ 96  44 109 157  71  43 214  38 145  24  58]\n",
      "Condition of H: 522020733204514.75\n",
      "Magnitude error: 4.6574404016640845\n",
      "Generated vector x: [216 171 125   8 188 143 124 101 183 115 189  73]\n",
      "Condition of H: 1.6211639047474996e+16\n",
      "Magnitude error: 53.60955477289435\n",
      "Generated vector x: [140  18 130  52  32 194  28 191 128 246 196  17 116]\n",
      "Condition of H: 4.7863923023780064e+17\n",
      "Magnitude error: 1149.5030135633763\n",
      "Generated vector x: [ 97 172 241  58 218 209 123  84 243 266 179 124  71   7]\n",
      "Condition of H: 2.5514988483782115e+17\n",
      "Magnitude error: 4330.279774269185\n",
      "Generated vector x: [203 124 141  95 262 202  70 258   0 132 107 140  42 165  18]\n",
      "Condition of H: 2.495951750009794e+17\n",
      "Magnitude error: 3445.833697732369\n",
      "Generated vector x: [261 134 255  13  20  17  75  58 231 153 126  66 195 309 258 208]\n",
      "Condition of H: 4.887494979630284e+17\n",
      "Magnitude error: 3034.653092176995\n",
      "Generated vector x: [286 226 198 150  37 158 167 207 311 220  82  85 278 280  60   4 227]\n",
      "Condition of H: 4.5144396839244595e+17\n",
      "Magnitude error: 5909.454991649961\n",
      "Generated vector x: [  3  19 264 282  90 339 131  62  38 282 176 216  48 271 327  81 217 138]\n",
      "Condition of H: 1.3500244931185792e+18\n",
      "Magnitude error: 12476.641734686556\n",
      "Generated vector x: [351  25 239 280  83 146 259 250  27  29 269 296 232 132 201 337 202 325\n",
      " 370]\n",
      "Condition of H: 1.2578582780633203e+18\n",
      "Magnitude error: 4685.092557091307\n"
     ]
    },
    {
     "name": "stderr",
     "output_type": "stream",
     "text": [
      "/Users/marivi/anaconda3/lib/python3.7/site-packages/ipykernel_launcher.py:7: LinAlgWarning: Ill-conditioned matrix (rcond=2.55091e-17): result may not be accurate.\n",
      "  import sys\n",
      "/Users/marivi/anaconda3/lib/python3.7/site-packages/ipykernel_launcher.py:7: LinAlgWarning: Ill-conditioned matrix (rcond=1.1721e-18): result may not be accurate.\n",
      "  import sys\n",
      "/Users/marivi/anaconda3/lib/python3.7/site-packages/ipykernel_launcher.py:7: LinAlgWarning: Ill-conditioned matrix (rcond=5.97124e-19): result may not be accurate.\n",
      "  import sys\n",
      "/Users/marivi/anaconda3/lib/python3.7/site-packages/ipykernel_launcher.py:7: LinAlgWarning: Ill-conditioned matrix (rcond=9.14407e-19): result may not be accurate.\n",
      "  import sys\n",
      "/Users/marivi/anaconda3/lib/python3.7/site-packages/ipykernel_launcher.py:7: LinAlgWarning: Ill-conditioned matrix (rcond=7.09847e-19): result may not be accurate.\n",
      "  import sys\n",
      "/Users/marivi/anaconda3/lib/python3.7/site-packages/ipykernel_launcher.py:7: LinAlgWarning: Ill-conditioned matrix (rcond=5.32825e-19): result may not be accurate.\n",
      "  import sys\n",
      "/Users/marivi/anaconda3/lib/python3.7/site-packages/ipykernel_launcher.py:7: LinAlgWarning: Ill-conditioned matrix (rcond=2.50838e-19): result may not be accurate.\n",
      "  import sys\n",
      "/Users/marivi/anaconda3/lib/python3.7/site-packages/ipykernel_launcher.py:7: LinAlgWarning: Ill-conditioned matrix (rcond=6.73871e-19): result may not be accurate.\n",
      "  import sys\n"
     ]
    },
    {
     "data": {
      "image/png": "[encoded data removed]",
      "text/plain": [
       "<Figure size 432x288 with 1 Axes>"
      ]
     },
     "metadata": {
      "needs_background": "light"
     },
     "output_type": "display_data"
    }
   ],
   "source": [
    "def hilbert_err(n):\n",
    "    x = np.random.randint(0,20*n,n)\n",
    "    H = hilbert(n)\n",
    "    b = H@x\n",
    "    print('Generated vector x:', x)\n",
    "    print('Condition of H:', cond(H))\n",
    "    xnew = solve(H, b)\n",
    "    err = norm(x - xnew)\n",
    "    print('Magnitude error:', err)\n",
    "    return err\n",
    "\n",
    "f = plt.figure()\n",
    "ax = f.add_subplot(111)\n",
    "for i in range(1, 20):\n",
    "    ax.scatter(i, hilbert_err(i))\n",
    "ax.set_ylabel(\"Error $|x-x'|$\")\n",
    "ax.set_yscale('symlog', lintheshy=10e-4)\n",
    "ax.set_xlabel('Dimensions $n$')\n",
    "ax.set_xticks(range(1, 20))\n",
    "plt.show()"
   ]
  },
  {
   "cell_type": "markdown",
   "metadata": {},
   "source": [
    "# FFTs"
   ]
  },
  {
   "cell_type": "markdown",
   "metadata": {},
   "source": [
    "## Q2: Noisy signal"
   ]
  },
  {
   "cell_type": "markdown",
   "metadata": {},
   "source": [
    "A convolution is defined as:                                                             \n",
    "  \\begin{equation}                                                                           \n",
    "    (f \\star g)(t) \\equiv \\int_{-\\infty}^{\\infty} f(\\tau) g(t - \\tau) d\\tau                   \n",
    "  \\end{equation}                                                                             \n",
    "  It is easy to compute this with FFTs, via the {\\em convolution theorem},                                                                        \n",
    "  \\begin{equation}                                                                                                                                                  \n",
    "    \\mathcal{F}\\{f \\star g\\} = \\mathcal{F}\\{f\\} \\, \\mathcal{F}\\{g\\}                                                                                                 \n",
    "  \\end{equation}                                                                                                                                                    \n",
    "  That is the Fourier transform of the convolution of $f$ and $g$ is simply\n",
    "  the product of the individual transforms of $f$ and $g$.  This allows us\n",
    "  to compute the convolution via multiplication in Fourier space and then take\n",
    "  the inverse transform, $\\mathcal{F}^{-1}\\{\\}$, to recover the convolution                   in real space:                                                                             \n",
    "  \\begin{equation}                                                                               f \\star g = \\mathcal{F}^{-1}\\{ \\mathcal{F}\\{f\\} \\, \\mathcal{F}\\{g\\}\\}                     \\end{equation}            \n",
    "  \n",
    "A common use of a convolution is to smooth noisy data, for example by convolving noisy data with a Gaussian.  We'll do that here."
   ]
  },
  {
   "cell_type": "markdown",
   "metadata": {},
   "source": [
    "Here's some noisy data we'll work with"
   ]
  },
  {
   "cell_type": "code",
   "execution_count": 1,
   "metadata": {},
   "outputs": [
    {
     "ename": "NameError",
     "evalue": "name 'np' is not defined",
     "output_type": "error",
     "traceback": [
      "\u001b[0;31m---------------------------------------------------------------------------\u001b[0m",
      "\u001b[0;31mNameError\u001b[0m                                 Traceback (most recent call last)",
      "\u001b[0;32m<ipython-input-1-9072a651cc14>\u001b[0m in \u001b[0;36m<module>\u001b[0;34m\u001b[0m\n\u001b[1;32m      6\u001b[0m \u001b[0mN\u001b[0m \u001b[0;34m=\u001b[0m \u001b[0;36m2048\u001b[0m\u001b[0;34m\u001b[0m\u001b[0;34m\u001b[0m\u001b[0m\n\u001b[1;32m      7\u001b[0m \u001b[0mL\u001b[0m \u001b[0;34m=\u001b[0m \u001b[0;36m50.0\u001b[0m\u001b[0;34m\u001b[0m\u001b[0;34m\u001b[0m\u001b[0m\n\u001b[0;32m----> 8\u001b[0;31m \u001b[0mx\u001b[0m \u001b[0;34m=\u001b[0m \u001b[0mnp\u001b[0m\u001b[0;34m.\u001b[0m\u001b[0mlinspace\u001b[0m\u001b[0;34m(\u001b[0m\u001b[0;36m0\u001b[0m\u001b[0;34m,\u001b[0m \u001b[0mL\u001b[0m\u001b[0;34m,\u001b[0m \u001b[0mN\u001b[0m\u001b[0;34m,\u001b[0m \u001b[0mendpoint\u001b[0m\u001b[0;34m=\u001b[0m\u001b[0;32mFalse\u001b[0m\u001b[0;34m)\u001b[0m\u001b[0;34m\u001b[0m\u001b[0;34m\u001b[0m\u001b[0m\n\u001b[0m\u001b[1;32m      9\u001b[0m \u001b[0morig\u001b[0m \u001b[0;34m=\u001b[0m \u001b[0mfdata\u001b[0m\u001b[0;34m(\u001b[0m\u001b[0mx\u001b[0m\u001b[0;34m,\u001b[0m \u001b[0mL\u001b[0m\u001b[0;34m)\u001b[0m\u001b[0;34m\u001b[0m\u001b[0;34m\u001b[0m\u001b[0m\n\u001b[1;32m     10\u001b[0m \u001b[0mnoisy\u001b[0m \u001b[0;34m=\u001b[0m \u001b[0morig\u001b[0m \u001b[0;34m+\u001b[0m \u001b[0;36m0.5\u001b[0m\u001b[0;34m*\u001b[0m\u001b[0mnp\u001b[0m\u001b[0;34m.\u001b[0m\u001b[0mrandom\u001b[0m\u001b[0;34m.\u001b[0m\u001b[0mrandn\u001b[0m\u001b[0;34m(\u001b[0m\u001b[0mN\u001b[0m\u001b[0;34m)\u001b[0m\u001b[0;34m\u001b[0m\u001b[0;34m\u001b[0m\u001b[0m\n",
      "\u001b[0;31mNameError\u001b[0m: name 'np' is not defined"
     ]
    }
   ],
   "source": [
    "def fdata(x, L):\n",
    "    A = L/10.0\n",
    "    return 2*np.sin(2*np.pi*x/L) + x*(L-x)**2/L**3 * np.cos(x) + \\\n",
    "           5*x*(L-x)/L**2 + A/2 + 0.1*A*np.sin(13*np.pi*x/L)\n",
    "\n",
    "N = 2048\n",
    "L = 50.0\n",
    "x = np.linspace(0, L, N, endpoint=False)\n",
    "orig = fdata(x, L)\n",
    "noisy = orig + 0.5*np.random.randn(N)"
   ]
  },
  {
   "cell_type": "code",
   "execution_count": 6,
   "metadata": {},
   "outputs": [
    {
     "data": {
      "text/plain": [
       "[<matplotlib.lines.Line2D at 0x4178a7748>]"
      ]
     },
     "execution_count": 6,
     "metadata": {},
     "output_type": "execute_result"
    },
    {
     "data": {
      "image/png": "[encoded data removed]",
      "text/plain": [
       "<Figure size 432x288 with 1 Axes>"
      ]
     },
     "metadata": {
      "needs_background": "light"
     },
     "output_type": "display_data"
    }
   ],
   "source": [
    "plt.plot(x, noisy)\n",
    "plt.plot(x, orig)"
   ]
  },
  {
   "cell_type": "markdown",
   "metadata": {},
   "source": [
    "SciPy provides a convolution function `scipy.signal.convolve()` that can do the convolution for us directly.  To smooth the data, we want to use a Gaussian, which can be produced by `scipy.signal.gaussian()`.\n",
    "\n",
    "Convolve the noisy data with a Gaussian and plot the result together with the original data `orig`.  You'll need to play with the width of the Gaussian to get a nice smoothing.  You also will need to normalize the Gaussian so that it sums to 1, otherwise, your convolved data will be shifted verfically from the original function."
   ]
  },
  {
   "cell_type": "code",
   "execution_count": null,
   "metadata": {},
   "outputs": [],
   "source": []
  },
  {
   "cell_type": "markdown",
   "metadata": {},
   "source": [
    "## <span class=\"fa fa-star\"></span> Q3: FFT of chaotic pendulum\n",
    "\n",
    "Last time we looked at ODEs and the chaotic pendulum, and were interested in writing a method to integrate the pendulum in time.\n",
    "\n",
    "Here we want to examine its behavior in frequency space.  The code below will integrate the chaotic pendulum, while requesting that the solution be stored at points spaced with a fixed dt, which makes it suitable for taking the FFT."
   ]
  },
  {
   "cell_type": "code",
   "execution_count": 7,
   "metadata": {},
   "outputs": [],
   "source": [
    "from functools import partial\n",
    "from scipy.integrate import solve_ivp\n",
    "\n",
    "def rhs(t, Y, q, omega_d, b):\n",
    "    \"\"\" damped driven pendulum system derivatives.  Here, Y = (theta, omega) are\n",
    "        the solution variables. \"\"\"\n",
    "    f = np.zeros_like(Y)\n",
    "        \n",
    "    f[0] = Y[1]\n",
    "    f[1] = -q*Y[1] - np.sin(Y[0]) + b*np.cos(omega_d*t)\n",
    "\n",
    "    return f\n",
    "\n",
    "def restrict_theta(theta):\n",
    "    \"\"\" convert theta to be restricted to lie between -pi and pi\"\"\"\n",
    "    tnew = theta + np.pi\n",
    "    tnew += -2.0*np.pi*np.floor(tnew/(2.0*np.pi))\n",
    "    tnew -= np.pi\n",
    "    return tnew\n",
    "\n",
    "def int_pendulum(theta0, q, omega_d, b, tend, dt):\n",
    "    \"\"\" integrate the pendulum and return solution with dt\"\"\"\n",
    "\n",
    "    # points in time where we'll request the solution\n",
    "    tpoints = np.arange(0.0, tend, dt)\n",
    "    \n",
    "    r = solve_ivp(partial(rhs, q=q, omega_d=omega_d, b=b),\n",
    "                  [0.0, tend], [theta0, 0.0],\n",
    "                  method='RK45', t_eval=tpoints)\n",
    "\n",
    "    return r.t, r.y"
   ]
  },
  {
   "cell_type": "markdown",
   "metadata": {},
   "source": [
    "The call below will give an undamped pendulum.  For a small amplitude, since we have $L = g$ in our pendulum, the period is simply $T = 2\\pi$, and the frequency is $\\nu_k = 1/(2\\pi)$.  We plot things in terms of angular frequency, $\\omega_k = 2\\pi \\nu_k$, so all the power will be at $\\omega_k = 1$."
   ]
  },
  {
   "cell_type": "code",
   "execution_count": 8,
   "metadata": {},
   "outputs": [],
   "source": [
    "t, y = int_pendulum(np.radians(10), 0.0, 0.6666, 0.0, 200.0, 0.1)"
   ]
  },
  {
   "cell_type": "markdown",
   "metadata": {},
   "source": [
    "Your task is to complete the power spectrum routine below to calculate the FFT of theta and plot it.  Experiment with the damping and driving parameters to see the complexity of the pendulum in frequency space when it becomes chaotic.  For reference, here's a plot of the solution theta"
   ]
  },
  {
   "cell_type": "code",
   "execution_count": 9,
   "metadata": {},
   "outputs": [
    {
     "data": {
      "text/plain": [
       "Text(0, 0.5, '$\\\\theta$')"
      ]
     },
     "execution_count": 9,
     "metadata": {},
     "output_type": "execute_result"
    },
    {
     "data": {
      "image/png": "[encoded data removed]",
      "text/plain": [
       "<Figure size 432x288 with 1 Axes>"
      ]
     },
     "metadata": {
      "needs_background": "light"
     },
     "output_type": "display_data"
    }
   ],
   "source": [
    "\n",
    "plt.plot(t, restrict_theta(y[0,:]))\n",
    "plt.xlabel(\"t\")\n",
    "plt.ylabel(r\"$\\theta$\")"
   ]
  },
  {
   "cell_type": "code",
   "execution_count": 10,
   "metadata": {},
   "outputs": [
    {
     "ename": "TypeError",
     "evalue": "tuple indices must be integers or slices, not tuple",
     "output_type": "error",
     "traceback": [
      "\u001b[0;31m---------------------------------------------------------------------------\u001b[0m",
      "\u001b[0;31mTypeError\u001b[0m                                 Traceback (most recent call last)",
      "\u001b[0;32m<ipython-input-10-465907b9d03b>\u001b[0m in \u001b[0;36m<module>\u001b[0;34m\u001b[0m\n\u001b[1;32m     19\u001b[0m \u001b[0ms\u001b[0m \u001b[0;34m=\u001b[0m \u001b[0mint_pendulum\u001b[0m\u001b[0;34m(\u001b[0m\u001b[0mnp\u001b[0m\u001b[0;34m.\u001b[0m\u001b[0mradians\u001b[0m\u001b[0;34m(\u001b[0m\u001b[0;36m10\u001b[0m\u001b[0;34m)\u001b[0m\u001b[0;34m,\u001b[0m \u001b[0;36m0.0\u001b[0m\u001b[0;34m,\u001b[0m \u001b[0;36m0.6666\u001b[0m\u001b[0;34m,\u001b[0m \u001b[0;36m0.0\u001b[0m\u001b[0;34m,\u001b[0m \u001b[0;36m200.0\u001b[0m\u001b[0;34m,\u001b[0m \u001b[0;36m0.1\u001b[0m\u001b[0;34m)\u001b[0m\u001b[0;34m\u001b[0m\u001b[0;34m\u001b[0m\u001b[0m\n\u001b[1;32m     20\u001b[0m \u001b[0;34m\u001b[0m\u001b[0m\n\u001b[0;32m---> 21\u001b[0;31m \u001b[0momega\u001b[0m\u001b[0;34m,\u001b[0m \u001b[0mF\u001b[0m \u001b[0;34m=\u001b[0m \u001b[0mpower_spectrum\u001b[0m\u001b[0;34m(\u001b[0m\u001b[0ms\u001b[0m\u001b[0;34m[\u001b[0m\u001b[0;34m:\u001b[0m\u001b[0;34m,\u001b[0m\u001b[0;36m0\u001b[0m\u001b[0;34m]\u001b[0m\u001b[0;34m,\u001b[0m \u001b[0ms\u001b[0m\u001b[0;34m[\u001b[0m\u001b[0;34m:\u001b[0m\u001b[0;34m,\u001b[0m\u001b[0;36m1\u001b[0m\u001b[0;34m]\u001b[0m\u001b[0;34m)\u001b[0m\u001b[0;34m\u001b[0m\u001b[0;34m\u001b[0m\u001b[0m\n\u001b[0m\u001b[1;32m     22\u001b[0m \u001b[0;34m\u001b[0m\u001b[0m\n\u001b[1;32m     23\u001b[0m \u001b[0mplt\u001b[0m\u001b[0;34m.\u001b[0m\u001b[0mplot\u001b[0m\u001b[0;34m(\u001b[0m\u001b[0momega\u001b[0m\u001b[0;34m,\u001b[0m \u001b[0mnp\u001b[0m\u001b[0;34m.\u001b[0m\u001b[0mabs\u001b[0m\u001b[0;34m(\u001b[0m\u001b[0mF\u001b[0m\u001b[0;34m)\u001b[0m\u001b[0;34m**\u001b[0m\u001b[0;36m2\u001b[0m\u001b[0;34m)\u001b[0m\u001b[0;34m\u001b[0m\u001b[0;34m\u001b[0m\u001b[0m\n",
      "\u001b[0;31mTypeError\u001b[0m: tuple indices must be integers or slices, not tuple"
     ]
    }
   ],
   "source": [
    "def power_spectrum(t, theta0):\n",
    "    \"\"\" return the power spectrum of theta.  For the frequency\n",
    "        component, return it in terms of omega \"\"\"\n",
    "\n",
    "    theta = restrict_theta(theta0)\n",
    "    \n",
    "    # fill in the rest -- take the FFT of theta and return omega_k and \n",
    "    # the transform of theta\n",
    "    N = len(t)    \n",
    "    F = (2.0/N)*np.fft.rfft(theta)\n",
    "\n",
    "    k = np.fft.rfftfreq(N)\n",
    "    kfreq = 2.0*np.pi*k*N/max(t)\n",
    "\n",
    "    return kfreq, F\n",
    "\n",
    "\n",
    "# normal (undamped, not driven pendulum)\n",
    "s = int_pendulum(np.radians(10), 0.0, 0.6666, 0.0, 200.0, 0.1)\n",
    "\n",
    "omega, F = power_spectrum(s[:,0], s[:,1])\n",
    "\n",
    "plt.plot(omega, np.abs(F)**2)\n",
    "plt.xlim(0.0, 2.0)\n",
    "plt.show()\n",
    "\n",
    "# chaotic pendulum\n",
    "s = int_pendulum(np.radians(10), 0.5, 0.6666, 1.15, 200.0, 0.1)\n",
    "\n",
    "omega, F = power_spectrum(s[:,0], s[:,1])\n",
    "\n",
    "plt.plot(omega, np.abs(F)**2)\n",
    "plt.xlim(0.0, 2.0)\n",
    "plt.show()"
   ]
  },
  {
   "cell_type": "code",
   "execution_count": null,
   "metadata": {},
   "outputs": [],
   "source": []
  },
  {
   "cell_type": "markdown",
   "metadata": {},
   "source": [
    "# Fitting"
   ]
  },
  {
   "cell_type": "markdown",
   "metadata": {},
   "source": [
    "## Q4: Let's find the errors on our fit\n",
    "\n",
    "We looked at fits, but not what the errors are on the fit.  Look at `scipy.optimize.curve_fit()`.  This is a simplified wrapper on the least squares fitting.  It can return the convariance matrix, the diagonals of which can give the error of the fit for the parameters.  \n",
    "\n",
    "Make up some data that models a non-linear function (by introducing some random noise) and perform a fit and find the errors on the parameters."
   ]
  },
  {
   "cell_type": "code",
   "execution_count": 11,
   "metadata": {},
   "outputs": [
    {
     "name": "stdout",
     "output_type": "stream",
     "text": [
      "[  27.04248925   34.62445668    6.31549039    6.24369097  195.87285892\n",
      "   57.06021794   19.35636879   28.44470616  113.21287707   91.32889205\n",
      "   23.15030631   31.59506779  208.24957152  184.26591076  106.22977271\n",
      "  250.5238923   447.07995032  163.11870047  320.99207796  316.53763109\n",
      "  286.24593919  461.82649352  418.90359829  234.56267691  376.41063504\n",
      "  518.02842617  423.35721711  495.82685232  648.34722486  592.15975101\n",
      "  481.40818617  867.45669679  939.26990701  461.652393    481.4292923\n",
      "  440.86815389 1142.65098206  487.81742685 1082.0072868   681.76609928\n",
      " 1103.38560111 1250.23254088  634.63260833  927.62751657 1035.3764793\n",
      " 1258.0470046  1475.32291596 1380.37990377 1236.88886724 1493.40557943]\n"
     ]
    },
    {
     "data": {
      "text/plain": [
       "array([1.57957768e-08, 2.95176499e-09, 2.65142561e-09])"
      ]
     },
     "execution_count": 11,
     "metadata": {},
     "output_type": "execute_result"
    },
    {
     "data": {
      "image/png": "[encoded data removed]",
      "text/plain": [
       "<Figure size 432x288 with 1 Axes>"
      ]
     },
     "metadata": {
      "needs_background": "light"
     },
     "output_type": "display_data"
    }
   ],
   "source": [
    "def curve(x, a, b, c):\n",
    "    N = len(x)\n",
    "    r = np.random.randn(N)\n",
    "    xn = x+r\n",
    "    y = a*(xn**2)*np.exp(b*xn)+c\n",
    "    return y\n",
    "x = np.linspace(1, 10.0, 50)\n",
    "y = curve(x, 15.2, -0.01234, 6.0)\n",
    "print(y)\n",
    "plt.scatter(x, y)\n",
    "import scipy\n",
    "params, err = scipy.optimize.curve_fit(curve, x, y, p0=[10, 1, 4])\n",
    "err\n",
    "np.sqrt(np.diag(err))"
   ]
  },
  {
   "cell_type": "code",
   "execution_count": null,
   "metadata": {},
   "outputs": [],
   "source": []
  }
 ],
 "metadata": {
  "kernelspec": {
   "display_name": "Python 3",
   "language": "python",
   "name": "python3"
  },
  "language_info": {
   "codemirror_mode": {
    "name": "ipython",
    "version": 3
   },
   "file_extension": ".py",
   "mimetype": "text/x-python",
   "name": "python",
   "nbconvert_exporter": "python",
   "pygments_lexer": "ipython3",
   "version": "3.7.3"
  }
 },
 "nbformat": 4,
 "nbformat_minor": 2
}
